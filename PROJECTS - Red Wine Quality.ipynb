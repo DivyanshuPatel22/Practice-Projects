{
 "cells": [
  {
   "cell_type": "code",
   "execution_count": 1,
   "id": "7238a7bc",
   "metadata": {},
   "outputs": [],
   "source": [
    "import numpy as np\n",
    "import pandas as pd\n",
    "import sklearn\n",
    "import seaborn as sns\n",
    "import matplotlib.pyplot as plt\n",
    "import warnings\n",
    "warnings.filterwarnings('ignore')"
   ]
  },
  {
   "cell_type": "code",
   "execution_count": 2,
   "id": "53eeae6f",
   "metadata": {},
   "outputs": [
    {
     "data": {
      "text/html": [
       "<div>\n",
       "<style scoped>\n",
       "    .dataframe tbody tr th:only-of-type {\n",
       "        vertical-align: middle;\n",
       "    }\n",
       "\n",
       "    .dataframe tbody tr th {\n",
       "        vertical-align: top;\n",
       "    }\n",
       "\n",
       "    .dataframe thead th {\n",
       "        text-align: right;\n",
       "    }\n",
       "</style>\n",
       "<table border=\"1\" class=\"dataframe\">\n",
       "  <thead>\n",
       "    <tr style=\"text-align: right;\">\n",
       "      <th></th>\n",
       "      <th>fixed acidity</th>\n",
       "      <th>volatile acidity</th>\n",
       "      <th>citric acid</th>\n",
       "      <th>residual sugar</th>\n",
       "      <th>chlorides</th>\n",
       "      <th>free sulfur dioxide</th>\n",
       "      <th>total sulfur dioxide</th>\n",
       "      <th>density</th>\n",
       "      <th>pH</th>\n",
       "      <th>sulphates</th>\n",
       "      <th>alcohol</th>\n",
       "      <th>quality</th>\n",
       "    </tr>\n",
       "  </thead>\n",
       "  <tbody>\n",
       "    <tr>\n",
       "      <th>0</th>\n",
       "      <td>7.4</td>\n",
       "      <td>0.700</td>\n",
       "      <td>0.00</td>\n",
       "      <td>1.9</td>\n",
       "      <td>0.076</td>\n",
       "      <td>11.0</td>\n",
       "      <td>34.0</td>\n",
       "      <td>0.99780</td>\n",
       "      <td>3.51</td>\n",
       "      <td>0.56</td>\n",
       "      <td>9.4</td>\n",
       "      <td>5</td>\n",
       "    </tr>\n",
       "    <tr>\n",
       "      <th>1</th>\n",
       "      <td>7.8</td>\n",
       "      <td>0.880</td>\n",
       "      <td>0.00</td>\n",
       "      <td>2.6</td>\n",
       "      <td>0.098</td>\n",
       "      <td>25.0</td>\n",
       "      <td>67.0</td>\n",
       "      <td>0.99680</td>\n",
       "      <td>3.20</td>\n",
       "      <td>0.68</td>\n",
       "      <td>9.8</td>\n",
       "      <td>5</td>\n",
       "    </tr>\n",
       "    <tr>\n",
       "      <th>2</th>\n",
       "      <td>7.8</td>\n",
       "      <td>0.760</td>\n",
       "      <td>0.04</td>\n",
       "      <td>2.3</td>\n",
       "      <td>0.092</td>\n",
       "      <td>15.0</td>\n",
       "      <td>54.0</td>\n",
       "      <td>0.99700</td>\n",
       "      <td>3.26</td>\n",
       "      <td>0.65</td>\n",
       "      <td>9.8</td>\n",
       "      <td>5</td>\n",
       "    </tr>\n",
       "    <tr>\n",
       "      <th>3</th>\n",
       "      <td>11.2</td>\n",
       "      <td>0.280</td>\n",
       "      <td>0.56</td>\n",
       "      <td>1.9</td>\n",
       "      <td>0.075</td>\n",
       "      <td>17.0</td>\n",
       "      <td>60.0</td>\n",
       "      <td>0.99800</td>\n",
       "      <td>3.16</td>\n",
       "      <td>0.58</td>\n",
       "      <td>9.8</td>\n",
       "      <td>6</td>\n",
       "    </tr>\n",
       "    <tr>\n",
       "      <th>4</th>\n",
       "      <td>7.4</td>\n",
       "      <td>0.700</td>\n",
       "      <td>0.00</td>\n",
       "      <td>1.9</td>\n",
       "      <td>0.076</td>\n",
       "      <td>11.0</td>\n",
       "      <td>34.0</td>\n",
       "      <td>0.99780</td>\n",
       "      <td>3.51</td>\n",
       "      <td>0.56</td>\n",
       "      <td>9.4</td>\n",
       "      <td>5</td>\n",
       "    </tr>\n",
       "    <tr>\n",
       "      <th>...</th>\n",
       "      <td>...</td>\n",
       "      <td>...</td>\n",
       "      <td>...</td>\n",
       "      <td>...</td>\n",
       "      <td>...</td>\n",
       "      <td>...</td>\n",
       "      <td>...</td>\n",
       "      <td>...</td>\n",
       "      <td>...</td>\n",
       "      <td>...</td>\n",
       "      <td>...</td>\n",
       "      <td>...</td>\n",
       "    </tr>\n",
       "    <tr>\n",
       "      <th>1594</th>\n",
       "      <td>6.2</td>\n",
       "      <td>0.600</td>\n",
       "      <td>0.08</td>\n",
       "      <td>2.0</td>\n",
       "      <td>0.090</td>\n",
       "      <td>32.0</td>\n",
       "      <td>44.0</td>\n",
       "      <td>0.99490</td>\n",
       "      <td>3.45</td>\n",
       "      <td>0.58</td>\n",
       "      <td>10.5</td>\n",
       "      <td>5</td>\n",
       "    </tr>\n",
       "    <tr>\n",
       "      <th>1595</th>\n",
       "      <td>5.9</td>\n",
       "      <td>0.550</td>\n",
       "      <td>0.10</td>\n",
       "      <td>2.2</td>\n",
       "      <td>0.062</td>\n",
       "      <td>39.0</td>\n",
       "      <td>51.0</td>\n",
       "      <td>0.99512</td>\n",
       "      <td>3.52</td>\n",
       "      <td>0.76</td>\n",
       "      <td>11.2</td>\n",
       "      <td>6</td>\n",
       "    </tr>\n",
       "    <tr>\n",
       "      <th>1596</th>\n",
       "      <td>6.3</td>\n",
       "      <td>0.510</td>\n",
       "      <td>0.13</td>\n",
       "      <td>2.3</td>\n",
       "      <td>0.076</td>\n",
       "      <td>29.0</td>\n",
       "      <td>40.0</td>\n",
       "      <td>0.99574</td>\n",
       "      <td>3.42</td>\n",
       "      <td>0.75</td>\n",
       "      <td>11.0</td>\n",
       "      <td>6</td>\n",
       "    </tr>\n",
       "    <tr>\n",
       "      <th>1597</th>\n",
       "      <td>5.9</td>\n",
       "      <td>0.645</td>\n",
       "      <td>0.12</td>\n",
       "      <td>2.0</td>\n",
       "      <td>0.075</td>\n",
       "      <td>32.0</td>\n",
       "      <td>44.0</td>\n",
       "      <td>0.99547</td>\n",
       "      <td>3.57</td>\n",
       "      <td>0.71</td>\n",
       "      <td>10.2</td>\n",
       "      <td>5</td>\n",
       "    </tr>\n",
       "    <tr>\n",
       "      <th>1598</th>\n",
       "      <td>6.0</td>\n",
       "      <td>0.310</td>\n",
       "      <td>0.47</td>\n",
       "      <td>3.6</td>\n",
       "      <td>0.067</td>\n",
       "      <td>18.0</td>\n",
       "      <td>42.0</td>\n",
       "      <td>0.99549</td>\n",
       "      <td>3.39</td>\n",
       "      <td>0.66</td>\n",
       "      <td>11.0</td>\n",
       "      <td>6</td>\n",
       "    </tr>\n",
       "  </tbody>\n",
       "</table>\n",
       "<p>1599 rows × 12 columns</p>\n",
       "</div>"
      ],
      "text/plain": [
       "      fixed acidity  volatile acidity  citric acid  residual sugar  chlorides  \\\n",
       "0               7.4             0.700         0.00             1.9      0.076   \n",
       "1               7.8             0.880         0.00             2.6      0.098   \n",
       "2               7.8             0.760         0.04             2.3      0.092   \n",
       "3              11.2             0.280         0.56             1.9      0.075   \n",
       "4               7.4             0.700         0.00             1.9      0.076   \n",
       "...             ...               ...          ...             ...        ...   \n",
       "1594            6.2             0.600         0.08             2.0      0.090   \n",
       "1595            5.9             0.550         0.10             2.2      0.062   \n",
       "1596            6.3             0.510         0.13             2.3      0.076   \n",
       "1597            5.9             0.645         0.12             2.0      0.075   \n",
       "1598            6.0             0.310         0.47             3.6      0.067   \n",
       "\n",
       "      free sulfur dioxide  total sulfur dioxide  density    pH  sulphates  \\\n",
       "0                    11.0                  34.0  0.99780  3.51       0.56   \n",
       "1                    25.0                  67.0  0.99680  3.20       0.68   \n",
       "2                    15.0                  54.0  0.99700  3.26       0.65   \n",
       "3                    17.0                  60.0  0.99800  3.16       0.58   \n",
       "4                    11.0                  34.0  0.99780  3.51       0.56   \n",
       "...                   ...                   ...      ...   ...        ...   \n",
       "1594                 32.0                  44.0  0.99490  3.45       0.58   \n",
       "1595                 39.0                  51.0  0.99512  3.52       0.76   \n",
       "1596                 29.0                  40.0  0.99574  3.42       0.75   \n",
       "1597                 32.0                  44.0  0.99547  3.57       0.71   \n",
       "1598                 18.0                  42.0  0.99549  3.39       0.66   \n",
       "\n",
       "      alcohol  quality  \n",
       "0         9.4        5  \n",
       "1         9.8        5  \n",
       "2         9.8        5  \n",
       "3         9.8        6  \n",
       "4         9.4        5  \n",
       "...       ...      ...  \n",
       "1594     10.5        5  \n",
       "1595     11.2        6  \n",
       "1596     11.0        6  \n",
       "1597     10.2        5  \n",
       "1598     11.0        6  \n",
       "\n",
       "[1599 rows x 12 columns]"
      ]
     },
     "execution_count": 2,
     "metadata": {},
     "output_type": "execute_result"
    }
   ],
   "source": [
    "df = pd.read_csv(\"winequality-red.csv\")   \n",
    "df"
   ]
  },
  {
   "cell_type": "code",
   "execution_count": 3,
   "id": "1f0ef5ee",
   "metadata": {},
   "outputs": [
    {
     "data": {
      "text/plain": [
       "5    681\n",
       "6    638\n",
       "7    199\n",
       "4     53\n",
       "8     18\n",
       "3     10\n",
       "Name: quality, dtype: int64"
      ]
     },
     "execution_count": 3,
     "metadata": {},
     "output_type": "execute_result"
    }
   ],
   "source": [
    "df['quality'].value_counts()"
   ]
  },
  {
   "cell_type": "code",
   "execution_count": 4,
   "id": "f8fe5537",
   "metadata": {},
   "outputs": [
    {
     "data": {
      "text/plain": [
       "<AxesSubplot:xlabel='quality', ylabel='count'>"
      ]
     },
     "execution_count": 4,
     "metadata": {},
     "output_type": "execute_result"
    },
    {
     "data": {
      "image/png": "[encoded data removed]",
      "text/plain": [
       "<Figure size 432x288 with 1 Axes>"
      ]
     },
     "metadata": {
      "needs_background": "light"
     },
     "output_type": "display_data"
    }
   ],
   "source": [
    "sns.countplot(df['quality'])"
   ]
  },
  {
   "cell_type": "markdown",
   "id": "2a1bca3e",
   "metadata": {},
   "source": [
    "As we can see it is an imbalanced dataset where 5,6 & 7 wine quality have more no of entries than 4,8 &3. Therefore we willl apply SMOTE(Synthetic Minority Over-sampling Technique) to make the data balanced."
   ]
  },
  {
   "cell_type": "code",
   "execution_count": 5,
   "id": "73efbe4c",
   "metadata": {},
   "outputs": [
    {
     "data": {
      "text/plain": [
       "0       5\n",
       "1       5\n",
       "2       5\n",
       "3       6\n",
       "4       5\n",
       "       ..\n",
       "1594    5\n",
       "1595    6\n",
       "1596    6\n",
       "1597    5\n",
       "1598    6\n",
       "Name: quality, Length: 1599, dtype: int64"
      ]
     },
     "execution_count": 5,
     "metadata": {},
     "output_type": "execute_result"
    }
   ],
   "source": [
    "x=df.iloc[:,0:-1]\n",
    "y=df.iloc[:,-1]\n",
    "y"
   ]
  },
  {
   "cell_type": "code",
   "execution_count": 6,
   "id": "a4ee75d6",
   "metadata": {},
   "outputs": [
    {
     "data": {
      "text/plain": [
       "(1599,)"
      ]
     },
     "execution_count": 6,
     "metadata": {},
     "output_type": "execute_result"
    }
   ],
   "source": [
    "y.shape"
   ]
  },
  {
   "cell_type": "code",
   "execution_count": 7,
   "id": "bc0989fa",
   "metadata": {},
   "outputs": [
    {
     "data": {
      "text/plain": [
       "0       5\n",
       "1       5\n",
       "2       5\n",
       "3       6\n",
       "4       5\n",
       "       ..\n",
       "4081    8\n",
       "4082    8\n",
       "4083    8\n",
       "4084    8\n",
       "4085    8\n",
       "Name: quality, Length: 4086, dtype: int64"
      ]
     },
     "execution_count": 7,
     "metadata": {},
     "output_type": "execute_result"
    }
   ],
   "source": [
    "from imblearn.over_sampling import SMOTE\n",
    "sm=SMOTE()\n",
    "dx,dy=sm.fit_resample(x,y)\n",
    "dy"
   ]
  },
  {
   "cell_type": "code",
   "execution_count": 8,
   "id": "516b5271",
   "metadata": {},
   "outputs": [
    {
     "data": {
      "text/plain": [
       "5    681\n",
       "6    681\n",
       "7    681\n",
       "4    681\n",
       "8    681\n",
       "3    681\n",
       "Name: quality, dtype: int64"
      ]
     },
     "execution_count": 8,
     "metadata": {},
     "output_type": "execute_result"
    }
   ],
   "source": [
    "dy.value_counts()"
   ]
  },
  {
   "cell_type": "code",
   "execution_count": 9,
   "id": "567c7841",
   "metadata": {},
   "outputs": [
    {
     "data": {
      "text/plain": [
       "<AxesSubplot:xlabel='quality', ylabel='count'>"
      ]
     },
     "execution_count": 9,
     "metadata": {},
     "output_type": "execute_result"
    },
    {
     "data": {
      "image/png": "[encoded data removed]",
      "text/plain": [
       "<Figure size 432x288 with 1 Axes>"
      ]
     },
     "metadata": {
      "needs_background": "light"
     },
     "output_type": "display_data"
    }
   ],
   "source": [
    "sns.countplot(dy)"
   ]
  },
  {
   "cell_type": "code",
   "execution_count": 10,
   "id": "049c8b27",
   "metadata": {},
   "outputs": [],
   "source": [
    "dx['quality'] = dy      # Combining the Dataframe to add quality "
   ]
  },
  {
   "cell_type": "code",
   "execution_count": 11,
   "id": "61953c3e",
   "metadata": {},
   "outputs": [
    {
     "data": {
      "text/html": [
       "<div>\n",
       "<style scoped>\n",
       "    .dataframe tbody tr th:only-of-type {\n",
       "        vertical-align: middle;\n",
       "    }\n",
       "\n",
       "    .dataframe tbody tr th {\n",
       "        vertical-align: top;\n",
       "    }\n",
       "\n",
       "    .dataframe thead th {\n",
       "        text-align: right;\n",
       "    }\n",
       "</style>\n",
       "<table border=\"1\" class=\"dataframe\">\n",
       "  <thead>\n",
       "    <tr style=\"text-align: right;\">\n",
       "      <th></th>\n",
       "      <th>fixed acidity</th>\n",
       "      <th>volatile acidity</th>\n",
       "      <th>citric acid</th>\n",
       "      <th>residual sugar</th>\n",
       "      <th>chlorides</th>\n",
       "      <th>free sulfur dioxide</th>\n",
       "      <th>total sulfur dioxide</th>\n",
       "      <th>density</th>\n",
       "      <th>pH</th>\n",
       "      <th>sulphates</th>\n",
       "      <th>alcohol</th>\n",
       "      <th>quality</th>\n",
       "    </tr>\n",
       "  </thead>\n",
       "  <tbody>\n",
       "    <tr>\n",
       "      <th>0</th>\n",
       "      <td>7.400000</td>\n",
       "      <td>0.700000</td>\n",
       "      <td>0.000000</td>\n",
       "      <td>1.900000</td>\n",
       "      <td>0.076000</td>\n",
       "      <td>11.000000</td>\n",
       "      <td>34.000000</td>\n",
       "      <td>0.997800</td>\n",
       "      <td>3.510000</td>\n",
       "      <td>0.560000</td>\n",
       "      <td>9.400000</td>\n",
       "      <td>5</td>\n",
       "    </tr>\n",
       "    <tr>\n",
       "      <th>1</th>\n",
       "      <td>7.800000</td>\n",
       "      <td>0.880000</td>\n",
       "      <td>0.000000</td>\n",
       "      <td>2.600000</td>\n",
       "      <td>0.098000</td>\n",
       "      <td>25.000000</td>\n",
       "      <td>67.000000</td>\n",
       "      <td>0.996800</td>\n",
       "      <td>3.200000</td>\n",
       "      <td>0.680000</td>\n",
       "      <td>9.800000</td>\n",
       "      <td>5</td>\n",
       "    </tr>\n",
       "    <tr>\n",
       "      <th>2</th>\n",
       "      <td>7.800000</td>\n",
       "      <td>0.760000</td>\n",
       "      <td>0.040000</td>\n",
       "      <td>2.300000</td>\n",
       "      <td>0.092000</td>\n",
       "      <td>15.000000</td>\n",
       "      <td>54.000000</td>\n",
       "      <td>0.997000</td>\n",
       "      <td>3.260000</td>\n",
       "      <td>0.650000</td>\n",
       "      <td>9.800000</td>\n",
       "      <td>5</td>\n",
       "    </tr>\n",
       "    <tr>\n",
       "      <th>3</th>\n",
       "      <td>11.200000</td>\n",
       "      <td>0.280000</td>\n",
       "      <td>0.560000</td>\n",
       "      <td>1.900000</td>\n",
       "      <td>0.075000</td>\n",
       "      <td>17.000000</td>\n",
       "      <td>60.000000</td>\n",
       "      <td>0.998000</td>\n",
       "      <td>3.160000</td>\n",
       "      <td>0.580000</td>\n",
       "      <td>9.800000</td>\n",
       "      <td>6</td>\n",
       "    </tr>\n",
       "    <tr>\n",
       "      <th>4</th>\n",
       "      <td>7.400000</td>\n",
       "      <td>0.700000</td>\n",
       "      <td>0.000000</td>\n",
       "      <td>1.900000</td>\n",
       "      <td>0.076000</td>\n",
       "      <td>11.000000</td>\n",
       "      <td>34.000000</td>\n",
       "      <td>0.997800</td>\n",
       "      <td>3.510000</td>\n",
       "      <td>0.560000</td>\n",
       "      <td>9.400000</td>\n",
       "      <td>5</td>\n",
       "    </tr>\n",
       "    <tr>\n",
       "      <th>...</th>\n",
       "      <td>...</td>\n",
       "      <td>...</td>\n",
       "      <td>...</td>\n",
       "      <td>...</td>\n",
       "      <td>...</td>\n",
       "      <td>...</td>\n",
       "      <td>...</td>\n",
       "      <td>...</td>\n",
       "      <td>...</td>\n",
       "      <td>...</td>\n",
       "      <td>...</td>\n",
       "      <td>...</td>\n",
       "    </tr>\n",
       "    <tr>\n",
       "      <th>4081</th>\n",
       "      <td>6.208034</td>\n",
       "      <td>0.717819</td>\n",
       "      <td>0.158389</td>\n",
       "      <td>1.981598</td>\n",
       "      <td>0.053724</td>\n",
       "      <td>12.793088</td>\n",
       "      <td>74.517497</td>\n",
       "      <td>0.993695</td>\n",
       "      <td>3.504484</td>\n",
       "      <td>0.830575</td>\n",
       "      <td>12.873564</td>\n",
       "      <td>8</td>\n",
       "    </tr>\n",
       "    <tr>\n",
       "      <th>4082</th>\n",
       "      <td>8.474604</td>\n",
       "      <td>0.448063</td>\n",
       "      <td>0.424275</td>\n",
       "      <td>2.614921</td>\n",
       "      <td>0.077532</td>\n",
       "      <td>7.233861</td>\n",
       "      <td>17.000000</td>\n",
       "      <td>0.993901</td>\n",
       "      <td>3.180847</td>\n",
       "      <td>0.796614</td>\n",
       "      <td>12.563703</td>\n",
       "      <td>8</td>\n",
       "    </tr>\n",
       "    <tr>\n",
       "      <th>4083</th>\n",
       "      <td>7.456413</td>\n",
       "      <td>0.389617</td>\n",
       "      <td>0.270383</td>\n",
       "      <td>1.870516</td>\n",
       "      <td>0.072731</td>\n",
       "      <td>19.397548</td>\n",
       "      <td>26.961677</td>\n",
       "      <td>0.994187</td>\n",
       "      <td>3.271027</td>\n",
       "      <td>0.705641</td>\n",
       "      <td>11.583342</td>\n",
       "      <td>8</td>\n",
       "    </tr>\n",
       "    <tr>\n",
       "      <th>4084</th>\n",
       "      <td>8.982786</td>\n",
       "      <td>0.413675</td>\n",
       "      <td>0.484371</td>\n",
       "      <td>1.868375</td>\n",
       "      <td>0.071488</td>\n",
       "      <td>7.097678</td>\n",
       "      <td>16.097678</td>\n",
       "      <td>0.994398</td>\n",
       "      <td>3.209023</td>\n",
       "      <td>0.692930</td>\n",
       "      <td>12.558607</td>\n",
       "      <td>8</td>\n",
       "    </tr>\n",
       "    <tr>\n",
       "      <th>4085</th>\n",
       "      <td>10.121990</td>\n",
       "      <td>0.331867</td>\n",
       "      <td>0.457417</td>\n",
       "      <td>5.717627</td>\n",
       "      <td>0.072703</td>\n",
       "      <td>5.296684</td>\n",
       "      <td>13.445026</td>\n",
       "      <td>0.997158</td>\n",
       "      <td>3.227033</td>\n",
       "      <td>0.800716</td>\n",
       "      <td>12.585166</td>\n",
       "      <td>8</td>\n",
       "    </tr>\n",
       "  </tbody>\n",
       "</table>\n",
       "<p>4086 rows × 12 columns</p>\n",
       "</div>"
      ],
      "text/plain": [
       "      fixed acidity  volatile acidity  citric acid  residual sugar  chlorides  \\\n",
       "0          7.400000          0.700000     0.000000        1.900000   0.076000   \n",
       "1          7.800000          0.880000     0.000000        2.600000   0.098000   \n",
       "2          7.800000          0.760000     0.040000        2.300000   0.092000   \n",
       "3         11.200000          0.280000     0.560000        1.900000   0.075000   \n",
       "4          7.400000          0.700000     0.000000        1.900000   0.076000   \n",
       "...             ...               ...          ...             ...        ...   \n",
       "4081       6.208034          0.717819     0.158389        1.981598   0.053724   \n",
       "4082       8.474604          0.448063     0.424275        2.614921   0.077532   \n",
       "4083       7.456413          0.389617     0.270383        1.870516   0.072731   \n",
       "4084       8.982786          0.413675     0.484371        1.868375   0.071488   \n",
       "4085      10.121990          0.331867     0.457417        5.717627   0.072703   \n",
       "\n",
       "      free sulfur dioxide  total sulfur dioxide   density        pH  \\\n",
       "0               11.000000             34.000000  0.997800  3.510000   \n",
       "1               25.000000             67.000000  0.996800  3.200000   \n",
       "2               15.000000             54.000000  0.997000  3.260000   \n",
       "3               17.000000             60.000000  0.998000  3.160000   \n",
       "4               11.000000             34.000000  0.997800  3.510000   \n",
       "...                   ...                   ...       ...       ...   \n",
       "4081            12.793088             74.517497  0.993695  3.504484   \n",
       "4082             7.233861             17.000000  0.993901  3.180847   \n",
       "4083            19.397548             26.961677  0.994187  3.271027   \n",
       "4084             7.097678             16.097678  0.994398  3.209023   \n",
       "4085             5.296684             13.445026  0.997158  3.227033   \n",
       "\n",
       "      sulphates    alcohol  quality  \n",
       "0      0.560000   9.400000        5  \n",
       "1      0.680000   9.800000        5  \n",
       "2      0.650000   9.800000        5  \n",
       "3      0.580000   9.800000        6  \n",
       "4      0.560000   9.400000        5  \n",
       "...         ...        ...      ...  \n",
       "4081   0.830575  12.873564        8  \n",
       "4082   0.796614  12.563703        8  \n",
       "4083   0.705641  11.583342        8  \n",
       "4084   0.692930  12.558607        8  \n",
       "4085   0.800716  12.585166        8  \n",
       "\n",
       "[4086 rows x 12 columns]"
      ]
     },
     "execution_count": 11,
     "metadata": {},
     "output_type": "execute_result"
    }
   ],
   "source": [
    "dx"
   ]
  },
  {
   "cell_type": "code",
   "execution_count": 12,
   "id": "cb23d5c3",
   "metadata": {},
   "outputs": [
    {
     "data": {
      "text/plain": [
       "Index(['fixed acidity', 'volatile acidity', 'citric acid', 'residual sugar',\n",
       "       'chlorides', 'free sulfur dioxide', 'total sulfur dioxide', 'density',\n",
       "       'pH', 'sulphates', 'alcohol', 'quality'],\n",
       "      dtype='object')"
      ]
     },
     "execution_count": 12,
     "metadata": {},
     "output_type": "execute_result"
    }
   ],
   "source": [
    "dx.columns"
   ]
  },
  {
   "cell_type": "code",
   "execution_count": 13,
   "id": "392cd1db",
   "metadata": {},
   "outputs": [
    {
     "data": {
      "text/plain": [
       "fixed acidity           float64\n",
       "volatile acidity        float64\n",
       "citric acid             float64\n",
       "residual sugar          float64\n",
       "chlorides               float64\n",
       "free sulfur dioxide     float64\n",
       "total sulfur dioxide    float64\n",
       "density                 float64\n",
       "pH                      float64\n",
       "sulphates               float64\n",
       "alcohol                 float64\n",
       "quality                   int64\n",
       "dtype: object"
      ]
     },
     "execution_count": 13,
     "metadata": {},
     "output_type": "execute_result"
    }
   ],
   "source": [
    "dx.dtypes"
   ]
  },
  {
   "cell_type": "code",
   "execution_count": 14,
   "id": "97d4abc9",
   "metadata": {},
   "outputs": [
    {
     "data": {
      "text/plain": [
       "fixed acidity           0\n",
       "volatile acidity        0\n",
       "citric acid             0\n",
       "residual sugar          0\n",
       "chlorides               0\n",
       "free sulfur dioxide     0\n",
       "total sulfur dioxide    0\n",
       "density                 0\n",
       "pH                      0\n",
       "sulphates               0\n",
       "alcohol                 0\n",
       "quality                 0\n",
       "dtype: int64"
      ]
     },
     "execution_count": 14,
     "metadata": {},
     "output_type": "execute_result"
    }
   ],
   "source": [
    "dx.isnull().sum()"
   ]
  },
  {
   "cell_type": "code",
   "execution_count": 15,
   "id": "08bd9968",
   "metadata": {},
   "outputs": [
    {
     "data": {
      "text/plain": [
       "<AxesSubplot:>"
      ]
     },
     "execution_count": 15,
     "metadata": {},
     "output_type": "execute_result"
    },
    {
     "data": {
      "image/png": "[encoded data removed]",
      "text/plain": [
       "<Figure size 432x288 with 2 Axes>"
      ]
     },
     "metadata": {
      "needs_background": "light"
     },
     "output_type": "display_data"
    }
   ],
   "source": [
    "sns.heatmap(dx.isnull())"
   ]
  },
  {
   "cell_type": "code",
   "execution_count": 16,
   "id": "52e80cad",
   "metadata": {},
   "outputs": [
    {
     "data": {
      "text/html": [
       "<div>\n",
       "<style scoped>\n",
       "    .dataframe tbody tr th:only-of-type {\n",
       "        vertical-align: middle;\n",
       "    }\n",
       "\n",
       "    .dataframe tbody tr th {\n",
       "        vertical-align: top;\n",
       "    }\n",
       "\n",
       "    .dataframe thead th {\n",
       "        text-align: right;\n",
       "    }\n",
       "</style>\n",
       "<table border=\"1\" class=\"dataframe\">\n",
       "  <thead>\n",
       "    <tr style=\"text-align: right;\">\n",
       "      <th></th>\n",
       "      <th>fixed acidity</th>\n",
       "      <th>volatile acidity</th>\n",
       "      <th>citric acid</th>\n",
       "      <th>residual sugar</th>\n",
       "      <th>chlorides</th>\n",
       "      <th>free sulfur dioxide</th>\n",
       "      <th>total sulfur dioxide</th>\n",
       "      <th>density</th>\n",
       "      <th>pH</th>\n",
       "      <th>sulphates</th>\n",
       "      <th>alcohol</th>\n",
       "      <th>quality</th>\n",
       "    </tr>\n",
       "  </thead>\n",
       "  <tbody>\n",
       "    <tr>\n",
       "      <th>count</th>\n",
       "      <td>4086.000000</td>\n",
       "      <td>4086.000000</td>\n",
       "      <td>4086.000000</td>\n",
       "      <td>4086.000000</td>\n",
       "      <td>4086.000000</td>\n",
       "      <td>4086.000000</td>\n",
       "      <td>4086.000000</td>\n",
       "      <td>4086.000000</td>\n",
       "      <td>4086.000000</td>\n",
       "      <td>4086.000000</td>\n",
       "      <td>4086.000000</td>\n",
       "      <td>4086.000000</td>\n",
       "    </tr>\n",
       "    <tr>\n",
       "      <th>mean</th>\n",
       "      <td>8.366944</td>\n",
       "      <td>0.583664</td>\n",
       "      <td>0.272445</td>\n",
       "      <td>2.599335</td>\n",
       "      <td>0.088688</td>\n",
       "      <td>13.369253</td>\n",
       "      <td>36.448262</td>\n",
       "      <td>0.996521</td>\n",
       "      <td>3.326833</td>\n",
       "      <td>0.657431</td>\n",
       "      <td>10.716347</td>\n",
       "      <td>5.500000</td>\n",
       "    </tr>\n",
       "    <tr>\n",
       "      <th>std</th>\n",
       "      <td>1.628154</td>\n",
       "      <td>0.245978</td>\n",
       "      <td>0.199970</td>\n",
       "      <td>1.216312</td>\n",
       "      <td>0.044453</td>\n",
       "      <td>9.652976</td>\n",
       "      <td>28.613139</td>\n",
       "      <td>0.001857</td>\n",
       "      <td>0.151878</td>\n",
       "      <td>0.156929</td>\n",
       "      <td>1.169242</td>\n",
       "      <td>1.708034</td>\n",
       "    </tr>\n",
       "    <tr>\n",
       "      <th>min</th>\n",
       "      <td>4.600000</td>\n",
       "      <td>0.120000</td>\n",
       "      <td>0.000000</td>\n",
       "      <td>0.900000</td>\n",
       "      <td>0.012000</td>\n",
       "      <td>1.000000</td>\n",
       "      <td>6.000000</td>\n",
       "      <td>0.990070</td>\n",
       "      <td>2.740000</td>\n",
       "      <td>0.330000</td>\n",
       "      <td>8.400000</td>\n",
       "      <td>3.000000</td>\n",
       "    </tr>\n",
       "    <tr>\n",
       "      <th>25%</th>\n",
       "      <td>7.200000</td>\n",
       "      <td>0.390000</td>\n",
       "      <td>0.080000</td>\n",
       "      <td>1.945831</td>\n",
       "      <td>0.069593</td>\n",
       "      <td>5.862657</td>\n",
       "      <td>15.085895</td>\n",
       "      <td>0.995384</td>\n",
       "      <td>3.220000</td>\n",
       "      <td>0.550000</td>\n",
       "      <td>9.800000</td>\n",
       "      <td>4.000000</td>\n",
       "    </tr>\n",
       "    <tr>\n",
       "      <th>50%</th>\n",
       "      <td>8.039778</td>\n",
       "      <td>0.540000</td>\n",
       "      <td>0.265871</td>\n",
       "      <td>2.200000</td>\n",
       "      <td>0.078685</td>\n",
       "      <td>10.501664</td>\n",
       "      <td>27.000000</td>\n",
       "      <td>0.996550</td>\n",
       "      <td>3.320000</td>\n",
       "      <td>0.630000</td>\n",
       "      <td>10.547866</td>\n",
       "      <td>5.500000</td>\n",
       "    </tr>\n",
       "    <tr>\n",
       "      <th>75%</th>\n",
       "      <td>9.391746</td>\n",
       "      <td>0.719134</td>\n",
       "      <td>0.440000</td>\n",
       "      <td>2.742733</td>\n",
       "      <td>0.091747</td>\n",
       "      <td>18.000000</td>\n",
       "      <td>48.000000</td>\n",
       "      <td>0.997671</td>\n",
       "      <td>3.421554</td>\n",
       "      <td>0.740000</td>\n",
       "      <td>11.452902</td>\n",
       "      <td>7.000000</td>\n",
       "    </tr>\n",
       "    <tr>\n",
       "      <th>max</th>\n",
       "      <td>15.900000</td>\n",
       "      <td>1.580000</td>\n",
       "      <td>1.000000</td>\n",
       "      <td>15.500000</td>\n",
       "      <td>0.611000</td>\n",
       "      <td>72.000000</td>\n",
       "      <td>289.000000</td>\n",
       "      <td>1.003690</td>\n",
       "      <td>4.010000</td>\n",
       "      <td>2.000000</td>\n",
       "      <td>14.900000</td>\n",
       "      <td>8.000000</td>\n",
       "    </tr>\n",
       "  </tbody>\n",
       "</table>\n",
       "</div>"
      ],
      "text/plain": [
       "       fixed acidity  volatile acidity  citric acid  residual sugar  \\\n",
       "count    4086.000000       4086.000000  4086.000000     4086.000000   \n",
       "mean        8.366944          0.583664     0.272445        2.599335   \n",
       "std         1.628154          0.245978     0.199970        1.216312   \n",
       "min         4.600000          0.120000     0.000000        0.900000   \n",
       "25%         7.200000          0.390000     0.080000        1.945831   \n",
       "50%         8.039778          0.540000     0.265871        2.200000   \n",
       "75%         9.391746          0.719134     0.440000        2.742733   \n",
       "max        15.900000          1.580000     1.000000       15.500000   \n",
       "\n",
       "         chlorides  free sulfur dioxide  total sulfur dioxide      density  \\\n",
       "count  4086.000000          4086.000000           4086.000000  4086.000000   \n",
       "mean      0.088688            13.369253             36.448262     0.996521   \n",
       "std       0.044453             9.652976             28.613139     0.001857   \n",
       "min       0.012000             1.000000              6.000000     0.990070   \n",
       "25%       0.069593             5.862657             15.085895     0.995384   \n",
       "50%       0.078685            10.501664             27.000000     0.996550   \n",
       "75%       0.091747            18.000000             48.000000     0.997671   \n",
       "max       0.611000            72.000000            289.000000     1.003690   \n",
       "\n",
       "                pH    sulphates      alcohol      quality  \n",
       "count  4086.000000  4086.000000  4086.000000  4086.000000  \n",
       "mean      3.326833     0.657431    10.716347     5.500000  \n",
       "std       0.151878     0.156929     1.169242     1.708034  \n",
       "min       2.740000     0.330000     8.400000     3.000000  \n",
       "25%       3.220000     0.550000     9.800000     4.000000  \n",
       "50%       3.320000     0.630000    10.547866     5.500000  \n",
       "75%       3.421554     0.740000    11.452902     7.000000  \n",
       "max       4.010000     2.000000    14.900000     8.000000  "
      ]
     },
     "execution_count": 16,
     "metadata": {},
     "output_type": "execute_result"
    }
   ],
   "source": [
    "dx.describe()"
   ]
  },
  {
   "cell_type": "code",
   "execution_count": 17,
   "id": "28647f8d",
   "metadata": {},
   "outputs": [
    {
     "data": {
      "text/plain": [
       "<AxesSubplot:>"
      ]
     },
     "execution_count": 17,
     "metadata": {},
     "output_type": "execute_result"
    },
    {
     "data": {
      "image/png": "[encoded data removed]",
      "text/plain": [
       "<Figure size 1584x576 with 2 Axes>"
      ]
     },
     "metadata": {
      "needs_background": "light"
     },
     "output_type": "display_data"
    }
   ],
   "source": [
    "plt.figure(figsize=(22,8))\n",
    "sns.heatmap(dx.describe(),annot=True,fmt=\"0.2f\")"
   ]
  },
  {
   "cell_type": "markdown",
   "id": "7bcfd22a",
   "metadata": {},
   "source": [
    "CORRELATION"
   ]
  },
  {
   "cell_type": "code",
   "execution_count": 18,
   "id": "fbf78410",
   "metadata": {},
   "outputs": [
    {
     "data": {
      "text/html": [
       "<div>\n",
       "<style scoped>\n",
       "    .dataframe tbody tr th:only-of-type {\n",
       "        vertical-align: middle;\n",
       "    }\n",
       "\n",
       "    .dataframe tbody tr th {\n",
       "        vertical-align: top;\n",
       "    }\n",
       "\n",
       "    .dataframe thead th {\n",
       "        text-align: right;\n",
       "    }\n",
       "</style>\n",
       "<table border=\"1\" class=\"dataframe\">\n",
       "  <thead>\n",
       "    <tr style=\"text-align: right;\">\n",
       "      <th></th>\n",
       "      <th>fixed acidity</th>\n",
       "      <th>volatile acidity</th>\n",
       "      <th>citric acid</th>\n",
       "      <th>residual sugar</th>\n",
       "      <th>chlorides</th>\n",
       "      <th>free sulfur dioxide</th>\n",
       "      <th>total sulfur dioxide</th>\n",
       "      <th>density</th>\n",
       "      <th>pH</th>\n",
       "      <th>sulphates</th>\n",
       "      <th>alcohol</th>\n",
       "      <th>quality</th>\n",
       "    </tr>\n",
       "  </thead>\n",
       "  <tbody>\n",
       "    <tr>\n",
       "      <th>fixed acidity</th>\n",
       "      <td>1.000000</td>\n",
       "      <td>-0.305290</td>\n",
       "      <td>0.720641</td>\n",
       "      <td>0.099691</td>\n",
       "      <td>0.086053</td>\n",
       "      <td>-0.130568</td>\n",
       "      <td>-0.115685</td>\n",
       "      <td>0.638246</td>\n",
       "      <td>-0.715859</td>\n",
       "      <td>0.200059</td>\n",
       "      <td>-0.116285</td>\n",
       "      <td>0.163629</td>\n",
       "    </tr>\n",
       "    <tr>\n",
       "      <th>volatile acidity</th>\n",
       "      <td>-0.305290</td>\n",
       "      <td>1.000000</td>\n",
       "      <td>-0.638415</td>\n",
       "      <td>0.095704</td>\n",
       "      <td>0.211786</td>\n",
       "      <td>-0.158738</td>\n",
       "      <td>-0.098012</td>\n",
       "      <td>0.097711</td>\n",
       "      <td>0.460125</td>\n",
       "      <td>-0.467169</td>\n",
       "      <td>-0.261961</td>\n",
       "      <td>-0.682152</td>\n",
       "    </tr>\n",
       "    <tr>\n",
       "      <th>citric acid</th>\n",
       "      <td>0.720641</td>\n",
       "      <td>-0.638415</td>\n",
       "      <td>1.000000</td>\n",
       "      <td>0.075744</td>\n",
       "      <td>0.077798</td>\n",
       "      <td>-0.005909</td>\n",
       "      <td>0.047157</td>\n",
       "      <td>0.288191</td>\n",
       "      <td>-0.677293</td>\n",
       "      <td>0.440865</td>\n",
       "      <td>0.160098</td>\n",
       "      <td>0.470692</td>\n",
       "    </tr>\n",
       "    <tr>\n",
       "      <th>residual sugar</th>\n",
       "      <td>0.099691</td>\n",
       "      <td>0.095704</td>\n",
       "      <td>0.075744</td>\n",
       "      <td>1.000000</td>\n",
       "      <td>0.007835</td>\n",
       "      <td>-0.012462</td>\n",
       "      <td>0.083188</td>\n",
       "      <td>0.319479</td>\n",
       "      <td>-0.016237</td>\n",
       "      <td>-0.054656</td>\n",
       "      <td>0.094218</td>\n",
       "      <td>-0.048867</td>\n",
       "    </tr>\n",
       "    <tr>\n",
       "      <th>chlorides</th>\n",
       "      <td>0.086053</td>\n",
       "      <td>0.211786</td>\n",
       "      <td>0.077798</td>\n",
       "      <td>0.007835</td>\n",
       "      <td>1.000000</td>\n",
       "      <td>0.015059</td>\n",
       "      <td>-0.013093</td>\n",
       "      <td>0.252148</td>\n",
       "      <td>-0.159108</td>\n",
       "      <td>0.201195</td>\n",
       "      <td>-0.328880</td>\n",
       "      <td>-0.334999</td>\n",
       "    </tr>\n",
       "    <tr>\n",
       "      <th>free sulfur dioxide</th>\n",
       "      <td>-0.130568</td>\n",
       "      <td>-0.158738</td>\n",
       "      <td>-0.005909</td>\n",
       "      <td>-0.012462</td>\n",
       "      <td>0.015059</td>\n",
       "      <td>1.000000</td>\n",
       "      <td>0.712366</td>\n",
       "      <td>-0.094617</td>\n",
       "      <td>0.048918</td>\n",
       "      <td>0.161778</td>\n",
       "      <td>-0.010391</td>\n",
       "      <td>0.074992</td>\n",
       "    </tr>\n",
       "    <tr>\n",
       "      <th>total sulfur dioxide</th>\n",
       "      <td>-0.115685</td>\n",
       "      <td>-0.098012</td>\n",
       "      <td>0.047157</td>\n",
       "      <td>0.083188</td>\n",
       "      <td>-0.013093</td>\n",
       "      <td>0.712366</td>\n",
       "      <td>1.000000</td>\n",
       "      <td>0.001845</td>\n",
       "      <td>-0.038984</td>\n",
       "      <td>0.118046</td>\n",
       "      <td>-0.103279</td>\n",
       "      <td>0.022772</td>\n",
       "    </tr>\n",
       "    <tr>\n",
       "      <th>density</th>\n",
       "      <td>0.638246</td>\n",
       "      <td>0.097711</td>\n",
       "      <td>0.288191</td>\n",
       "      <td>0.319479</td>\n",
       "      <td>0.252148</td>\n",
       "      <td>-0.094617</td>\n",
       "      <td>0.001845</td>\n",
       "      <td>1.000000</td>\n",
       "      <td>-0.306864</td>\n",
       "      <td>0.010806</td>\n",
       "      <td>-0.586549</td>\n",
       "      <td>-0.339984</td>\n",
       "    </tr>\n",
       "    <tr>\n",
       "      <th>pH</th>\n",
       "      <td>-0.715859</td>\n",
       "      <td>0.460125</td>\n",
       "      <td>-0.677293</td>\n",
       "      <td>-0.016237</td>\n",
       "      <td>-0.159108</td>\n",
       "      <td>0.048918</td>\n",
       "      <td>-0.038984</td>\n",
       "      <td>-0.306864</td>\n",
       "      <td>1.000000</td>\n",
       "      <td>-0.295220</td>\n",
       "      <td>0.140429</td>\n",
       "      <td>-0.315980</td>\n",
       "    </tr>\n",
       "    <tr>\n",
       "      <th>sulphates</th>\n",
       "      <td>0.200059</td>\n",
       "      <td>-0.467169</td>\n",
       "      <td>0.440865</td>\n",
       "      <td>-0.054656</td>\n",
       "      <td>0.201195</td>\n",
       "      <td>0.161778</td>\n",
       "      <td>0.118046</td>\n",
       "      <td>0.010806</td>\n",
       "      <td>-0.295220</td>\n",
       "      <td>1.000000</td>\n",
       "      <td>0.236165</td>\n",
       "      <td>0.466476</td>\n",
       "    </tr>\n",
       "    <tr>\n",
       "      <th>alcohol</th>\n",
       "      <td>-0.116285</td>\n",
       "      <td>-0.261961</td>\n",
       "      <td>0.160098</td>\n",
       "      <td>0.094218</td>\n",
       "      <td>-0.328880</td>\n",
       "      <td>-0.010391</td>\n",
       "      <td>-0.103279</td>\n",
       "      <td>-0.586549</td>\n",
       "      <td>0.140429</td>\n",
       "      <td>0.236165</td>\n",
       "      <td>1.000000</td>\n",
       "      <td>0.626035</td>\n",
       "    </tr>\n",
       "    <tr>\n",
       "      <th>quality</th>\n",
       "      <td>0.163629</td>\n",
       "      <td>-0.682152</td>\n",
       "      <td>0.470692</td>\n",
       "      <td>-0.048867</td>\n",
       "      <td>-0.334999</td>\n",
       "      <td>0.074992</td>\n",
       "      <td>0.022772</td>\n",
       "      <td>-0.339984</td>\n",
       "      <td>-0.315980</td>\n",
       "      <td>0.466476</td>\n",
       "      <td>0.626035</td>\n",
       "      <td>1.000000</td>\n",
       "    </tr>\n",
       "  </tbody>\n",
       "</table>\n",
       "</div>"
      ],
      "text/plain": [
       "                      fixed acidity  volatile acidity  citric acid  \\\n",
       "fixed acidity              1.000000         -0.305290     0.720641   \n",
       "volatile acidity          -0.305290          1.000000    -0.638415   \n",
       "citric acid                0.720641         -0.638415     1.000000   \n",
       "residual sugar             0.099691          0.095704     0.075744   \n",
       "chlorides                  0.086053          0.211786     0.077798   \n",
       "free sulfur dioxide       -0.130568         -0.158738    -0.005909   \n",
       "total sulfur dioxide      -0.115685         -0.098012     0.047157   \n",
       "density                    0.638246          0.097711     0.288191   \n",
       "pH                        -0.715859          0.460125    -0.677293   \n",
       "sulphates                  0.200059         -0.467169     0.440865   \n",
       "alcohol                   -0.116285         -0.261961     0.160098   \n",
       "quality                    0.163629         -0.682152     0.470692   \n",
       "\n",
       "                      residual sugar  chlorides  free sulfur dioxide  \\\n",
       "fixed acidity               0.099691   0.086053            -0.130568   \n",
       "volatile acidity            0.095704   0.211786            -0.158738   \n",
       "citric acid                 0.075744   0.077798            -0.005909   \n",
       "residual sugar              1.000000   0.007835            -0.012462   \n",
       "chlorides                   0.007835   1.000000             0.015059   \n",
       "free sulfur dioxide        -0.012462   0.015059             1.000000   \n",
       "total sulfur dioxide        0.083188  -0.013093             0.712366   \n",
       "density                     0.319479   0.252148            -0.094617   \n",
       "pH                         -0.016237  -0.159108             0.048918   \n",
       "sulphates                  -0.054656   0.201195             0.161778   \n",
       "alcohol                     0.094218  -0.328880            -0.010391   \n",
       "quality                    -0.048867  -0.334999             0.074992   \n",
       "\n",
       "                      total sulfur dioxide   density        pH  sulphates  \\\n",
       "fixed acidity                    -0.115685  0.638246 -0.715859   0.200059   \n",
       "volatile acidity                 -0.098012  0.097711  0.460125  -0.467169   \n",
       "citric acid                       0.047157  0.288191 -0.677293   0.440865   \n",
       "residual sugar                    0.083188  0.319479 -0.016237  -0.054656   \n",
       "chlorides                        -0.013093  0.252148 -0.159108   0.201195   \n",
       "free sulfur dioxide               0.712366 -0.094617  0.048918   0.161778   \n",
       "total sulfur dioxide              1.000000  0.001845 -0.038984   0.118046   \n",
       "density                           0.001845  1.000000 -0.306864   0.010806   \n",
       "pH                               -0.038984 -0.306864  1.000000  -0.295220   \n",
       "sulphates                         0.118046  0.010806 -0.295220   1.000000   \n",
       "alcohol                          -0.103279 -0.586549  0.140429   0.236165   \n",
       "quality                           0.022772 -0.339984 -0.315980   0.466476   \n",
       "\n",
       "                       alcohol   quality  \n",
       "fixed acidity        -0.116285  0.163629  \n",
       "volatile acidity     -0.261961 -0.682152  \n",
       "citric acid           0.160098  0.470692  \n",
       "residual sugar        0.094218 -0.048867  \n",
       "chlorides            -0.328880 -0.334999  \n",
       "free sulfur dioxide  -0.010391  0.074992  \n",
       "total sulfur dioxide -0.103279  0.022772  \n",
       "density              -0.586549 -0.339984  \n",
       "pH                    0.140429 -0.315980  \n",
       "sulphates             0.236165  0.466476  \n",
       "alcohol               1.000000  0.626035  \n",
       "quality               0.626035  1.000000  "
      ]
     },
     "execution_count": 18,
     "metadata": {},
     "output_type": "execute_result"
    }
   ],
   "source": [
    "dx.corr()"
   ]
  },
  {
   "cell_type": "code",
   "execution_count": 19,
   "id": "b36bc8f0",
   "metadata": {},
   "outputs": [
    {
     "data": {
      "image/png": "[encoded data removed]",
      "text/plain": [
       "<Figure size 1584x576 with 2 Axes>"
      ]
     },
     "metadata": {
      "needs_background": "light"
     },
     "output_type": "display_data"
    }
   ],
   "source": [
    "plt.figure(figsize=(22,8))\n",
    "sns.heatmap(dx.corr(),annot=True,linewidths = 2,cmap=\"Blues\")\n",
    "plt.show()"
   ]
  },
  {
   "cell_type": "code",
   "execution_count": 20,
   "id": "2d3dd225",
   "metadata": {},
   "outputs": [
    {
     "data": {
      "text/plain": [
       "volatile acidity       -0.682152\n",
       "density                -0.339984\n",
       "chlorides              -0.334999\n",
       "pH                     -0.315980\n",
       "residual sugar         -0.048867\n",
       "total sulfur dioxide    0.022772\n",
       "free sulfur dioxide     0.074992\n",
       "fixed acidity           0.163629\n",
       "sulphates               0.466476\n",
       "citric acid             0.470692\n",
       "alcohol                 0.626035\n",
       "quality                 1.000000\n",
       "Name: quality, dtype: float64"
      ]
     },
     "execution_count": 20,
     "metadata": {},
     "output_type": "execute_result"
    }
   ],
   "source": [
    "dx.corr()['quality'].sort_values()"
   ]
  },
  {
   "cell_type": "code",
   "execution_count": 21,
   "id": "b279d7fc",
   "metadata": {},
   "outputs": [
    {
     "data": {
      "image/png": "[encoded data removed]",
      "text/plain": [
       "<Figure size 1440x576 with 1 Axes>"
      ]
     },
     "metadata": {
      "needs_background": "light"
     },
     "output_type": "display_data"
    }
   ],
   "source": [
    "plt.figure(figsize=(20,8))\n",
    "dx.corr()['quality'].sort_values(ascending=False).drop(['quality']).plot(kind='bar')\n",
    "plt.xlabel(\"Features\",fontsize=16)\n",
    "plt.ylabel(\"Correlation Value w.r.t quality\",fontsize=16)\n",
    "plt.title(\"CORRELATION\",fontsize=20)\n",
    "plt.show()"
   ]
  },
  {
   "cell_type": "markdown",
   "id": "e2e6392d",
   "metadata": {},
   "source": [
    "From above we can see that some columns(features) are showing -ve correlation with wine quality. Those columns are :-\n",
    "   1. volatile acidity\n",
    "   2. density \n",
    "   3. chlorides\n",
    "   4. pH\n",
    "   5. residual sugar"
   ]
  },
  {
   "cell_type": "code",
   "execution_count": 22,
   "id": "a182fc5b",
   "metadata": {},
   "outputs": [
    {
     "data": {
      "text/html": [
       "<div>\n",
       "<style scoped>\n",
       "    .dataframe tbody tr th:only-of-type {\n",
       "        vertical-align: middle;\n",
       "    }\n",
       "\n",
       "    .dataframe tbody tr th {\n",
       "        vertical-align: top;\n",
       "    }\n",
       "\n",
       "    .dataframe thead th {\n",
       "        text-align: right;\n",
       "    }\n",
       "</style>\n",
       "<table border=\"1\" class=\"dataframe\">\n",
       "  <thead>\n",
       "    <tr style=\"text-align: right;\">\n",
       "      <th></th>\n",
       "      <th>fixed acidity</th>\n",
       "      <th>volatile acidity</th>\n",
       "      <th>citric acid</th>\n",
       "      <th>residual sugar</th>\n",
       "      <th>chlorides</th>\n",
       "      <th>free sulfur dioxide</th>\n",
       "      <th>total sulfur dioxide</th>\n",
       "      <th>density</th>\n",
       "      <th>pH</th>\n",
       "      <th>sulphates</th>\n",
       "      <th>alcohol</th>\n",
       "    </tr>\n",
       "  </thead>\n",
       "  <tbody>\n",
       "    <tr>\n",
       "      <th>0</th>\n",
       "      <td>7.400000</td>\n",
       "      <td>0.700000</td>\n",
       "      <td>0.000000</td>\n",
       "      <td>1.900000</td>\n",
       "      <td>0.076000</td>\n",
       "      <td>11.000000</td>\n",
       "      <td>34.000000</td>\n",
       "      <td>0.997800</td>\n",
       "      <td>3.510000</td>\n",
       "      <td>0.560000</td>\n",
       "      <td>9.400000</td>\n",
       "    </tr>\n",
       "    <tr>\n",
       "      <th>1</th>\n",
       "      <td>7.800000</td>\n",
       "      <td>0.880000</td>\n",
       "      <td>0.000000</td>\n",
       "      <td>2.600000</td>\n",
       "      <td>0.098000</td>\n",
       "      <td>25.000000</td>\n",
       "      <td>67.000000</td>\n",
       "      <td>0.996800</td>\n",
       "      <td>3.200000</td>\n",
       "      <td>0.680000</td>\n",
       "      <td>9.800000</td>\n",
       "    </tr>\n",
       "    <tr>\n",
       "      <th>2</th>\n",
       "      <td>7.800000</td>\n",
       "      <td>0.760000</td>\n",
       "      <td>0.040000</td>\n",
       "      <td>2.300000</td>\n",
       "      <td>0.092000</td>\n",
       "      <td>15.000000</td>\n",
       "      <td>54.000000</td>\n",
       "      <td>0.997000</td>\n",
       "      <td>3.260000</td>\n",
       "      <td>0.650000</td>\n",
       "      <td>9.800000</td>\n",
       "    </tr>\n",
       "    <tr>\n",
       "      <th>3</th>\n",
       "      <td>11.200000</td>\n",
       "      <td>0.280000</td>\n",
       "      <td>0.560000</td>\n",
       "      <td>1.900000</td>\n",
       "      <td>0.075000</td>\n",
       "      <td>17.000000</td>\n",
       "      <td>60.000000</td>\n",
       "      <td>0.998000</td>\n",
       "      <td>3.160000</td>\n",
       "      <td>0.580000</td>\n",
       "      <td>9.800000</td>\n",
       "    </tr>\n",
       "    <tr>\n",
       "      <th>4</th>\n",
       "      <td>7.400000</td>\n",
       "      <td>0.700000</td>\n",
       "      <td>0.000000</td>\n",
       "      <td>1.900000</td>\n",
       "      <td>0.076000</td>\n",
       "      <td>11.000000</td>\n",
       "      <td>34.000000</td>\n",
       "      <td>0.997800</td>\n",
       "      <td>3.510000</td>\n",
       "      <td>0.560000</td>\n",
       "      <td>9.400000</td>\n",
       "    </tr>\n",
       "    <tr>\n",
       "      <th>...</th>\n",
       "      <td>...</td>\n",
       "      <td>...</td>\n",
       "      <td>...</td>\n",
       "      <td>...</td>\n",
       "      <td>...</td>\n",
       "      <td>...</td>\n",
       "      <td>...</td>\n",
       "      <td>...</td>\n",
       "      <td>...</td>\n",
       "      <td>...</td>\n",
       "      <td>...</td>\n",
       "    </tr>\n",
       "    <tr>\n",
       "      <th>4081</th>\n",
       "      <td>6.208034</td>\n",
       "      <td>0.717819</td>\n",
       "      <td>0.158389</td>\n",
       "      <td>1.981598</td>\n",
       "      <td>0.053724</td>\n",
       "      <td>12.793088</td>\n",
       "      <td>74.517497</td>\n",
       "      <td>0.993695</td>\n",
       "      <td>3.504484</td>\n",
       "      <td>0.830575</td>\n",
       "      <td>12.873564</td>\n",
       "    </tr>\n",
       "    <tr>\n",
       "      <th>4082</th>\n",
       "      <td>8.474604</td>\n",
       "      <td>0.448063</td>\n",
       "      <td>0.424275</td>\n",
       "      <td>2.614921</td>\n",
       "      <td>0.077532</td>\n",
       "      <td>7.233861</td>\n",
       "      <td>17.000000</td>\n",
       "      <td>0.993901</td>\n",
       "      <td>3.180847</td>\n",
       "      <td>0.796614</td>\n",
       "      <td>12.563703</td>\n",
       "    </tr>\n",
       "    <tr>\n",
       "      <th>4083</th>\n",
       "      <td>7.456413</td>\n",
       "      <td>0.389617</td>\n",
       "      <td>0.270383</td>\n",
       "      <td>1.870516</td>\n",
       "      <td>0.072731</td>\n",
       "      <td>19.397548</td>\n",
       "      <td>26.961677</td>\n",
       "      <td>0.994187</td>\n",
       "      <td>3.271027</td>\n",
       "      <td>0.705641</td>\n",
       "      <td>11.583342</td>\n",
       "    </tr>\n",
       "    <tr>\n",
       "      <th>4084</th>\n",
       "      <td>8.982786</td>\n",
       "      <td>0.413675</td>\n",
       "      <td>0.484371</td>\n",
       "      <td>1.868375</td>\n",
       "      <td>0.071488</td>\n",
       "      <td>7.097678</td>\n",
       "      <td>16.097678</td>\n",
       "      <td>0.994398</td>\n",
       "      <td>3.209023</td>\n",
       "      <td>0.692930</td>\n",
       "      <td>12.558607</td>\n",
       "    </tr>\n",
       "    <tr>\n",
       "      <th>4085</th>\n",
       "      <td>10.121990</td>\n",
       "      <td>0.331867</td>\n",
       "      <td>0.457417</td>\n",
       "      <td>5.717627</td>\n",
       "      <td>0.072703</td>\n",
       "      <td>5.296684</td>\n",
       "      <td>13.445026</td>\n",
       "      <td>0.997158</td>\n",
       "      <td>3.227033</td>\n",
       "      <td>0.800716</td>\n",
       "      <td>12.585166</td>\n",
       "    </tr>\n",
       "  </tbody>\n",
       "</table>\n",
       "<p>4086 rows × 11 columns</p>\n",
       "</div>"
      ],
      "text/plain": [
       "      fixed acidity  volatile acidity  citric acid  residual sugar  chlorides  \\\n",
       "0          7.400000          0.700000     0.000000        1.900000   0.076000   \n",
       "1          7.800000          0.880000     0.000000        2.600000   0.098000   \n",
       "2          7.800000          0.760000     0.040000        2.300000   0.092000   \n",
       "3         11.200000          0.280000     0.560000        1.900000   0.075000   \n",
       "4          7.400000          0.700000     0.000000        1.900000   0.076000   \n",
       "...             ...               ...          ...             ...        ...   \n",
       "4081       6.208034          0.717819     0.158389        1.981598   0.053724   \n",
       "4082       8.474604          0.448063     0.424275        2.614921   0.077532   \n",
       "4083       7.456413          0.389617     0.270383        1.870516   0.072731   \n",
       "4084       8.982786          0.413675     0.484371        1.868375   0.071488   \n",
       "4085      10.121990          0.331867     0.457417        5.717627   0.072703   \n",
       "\n",
       "      free sulfur dioxide  total sulfur dioxide   density        pH  \\\n",
       "0               11.000000             34.000000  0.997800  3.510000   \n",
       "1               25.000000             67.000000  0.996800  3.200000   \n",
       "2               15.000000             54.000000  0.997000  3.260000   \n",
       "3               17.000000             60.000000  0.998000  3.160000   \n",
       "4               11.000000             34.000000  0.997800  3.510000   \n",
       "...                   ...                   ...       ...       ...   \n",
       "4081            12.793088             74.517497  0.993695  3.504484   \n",
       "4082             7.233861             17.000000  0.993901  3.180847   \n",
       "4083            19.397548             26.961677  0.994187  3.271027   \n",
       "4084             7.097678             16.097678  0.994398  3.209023   \n",
       "4085             5.296684             13.445026  0.997158  3.227033   \n",
       "\n",
       "      sulphates    alcohol  \n",
       "0      0.560000   9.400000  \n",
       "1      0.680000   9.800000  \n",
       "2      0.650000   9.800000  \n",
       "3      0.580000   9.800000  \n",
       "4      0.560000   9.400000  \n",
       "...         ...        ...  \n",
       "4081   0.830575  12.873564  \n",
       "4082   0.796614  12.563703  \n",
       "4083   0.705641  11.583342  \n",
       "4084   0.692930  12.558607  \n",
       "4085   0.800716  12.585166  \n",
       "\n",
       "[4086 rows x 11 columns]"
      ]
     },
     "execution_count": 22,
     "metadata": {},
     "output_type": "execute_result"
    }
   ],
   "source": [
    "x=dx.iloc[:,:-1]\n",
    "y=dx.iloc[:,-1]\n",
    "x"
   ]
  },
  {
   "cell_type": "code",
   "execution_count": 23,
   "id": "edd663e3",
   "metadata": {},
   "outputs": [
    {
     "data": {
      "text/plain": [
       "(4086, 11)"
      ]
     },
     "execution_count": 23,
     "metadata": {},
     "output_type": "execute_result"
    }
   ],
   "source": [
    "x.shape"
   ]
  },
  {
   "cell_type": "code",
   "execution_count": 24,
   "id": "4ece4c96",
   "metadata": {},
   "outputs": [
    {
     "data": {
      "text/plain": [
       "11"
      ]
     },
     "execution_count": 24,
     "metadata": {},
     "output_type": "execute_result"
    }
   ],
   "source": [
    "x.shape[1]"
   ]
  },
  {
   "cell_type": "markdown",
   "id": "fc953003",
   "metadata": {},
   "source": [
    "MULTICOLLINEARITY - Variance Inflation Factor(VIF)"
   ]
  },
  {
   "cell_type": "code",
   "execution_count": 25,
   "id": "46a17c4d",
   "metadata": {},
   "outputs": [],
   "source": [
    "from statsmodels.stats.outliers_influence import variance_inflation_factor"
   ]
  },
  {
   "cell_type": "code",
   "execution_count": 26,
   "id": "11c7afde",
   "metadata": {},
   "outputs": [],
   "source": [
    "def calc_vif(x):\n",
    "    vif=pd.DataFrame()\n",
    "    vif[\"Variables\"]=x.columns\n",
    "    vif[\"VIF FACTOR\"]=[variance_inflation_factor(x.values,i) for i in range(x.shape[1])]\n",
    "    return(vif)"
   ]
  },
  {
   "cell_type": "code",
   "execution_count": 27,
   "id": "7ab51c2a",
   "metadata": {},
   "outputs": [
    {
     "data": {
      "text/html": [
       "<div>\n",
       "<style scoped>\n",
       "    .dataframe tbody tr th:only-of-type {\n",
       "        vertical-align: middle;\n",
       "    }\n",
       "\n",
       "    .dataframe tbody tr th {\n",
       "        vertical-align: top;\n",
       "    }\n",
       "\n",
       "    .dataframe thead th {\n",
       "        text-align: right;\n",
       "    }\n",
       "</style>\n",
       "<table border=\"1\" class=\"dataframe\">\n",
       "  <thead>\n",
       "    <tr style=\"text-align: right;\">\n",
       "      <th></th>\n",
       "      <th>Variables</th>\n",
       "      <th>VIF FACTOR</th>\n",
       "    </tr>\n",
       "  </thead>\n",
       "  <tbody>\n",
       "    <tr>\n",
       "      <th>0</th>\n",
       "      <td>fixed acidity</td>\n",
       "      <td>100.438662</td>\n",
       "    </tr>\n",
       "    <tr>\n",
       "      <th>1</th>\n",
       "      <td>volatile acidity</td>\n",
       "      <td>18.048194</td>\n",
       "    </tr>\n",
       "    <tr>\n",
       "      <th>2</th>\n",
       "      <td>citric acid</td>\n",
       "      <td>12.663948</td>\n",
       "    </tr>\n",
       "    <tr>\n",
       "      <th>3</th>\n",
       "      <td>residual sugar</td>\n",
       "      <td>6.092013</td>\n",
       "    </tr>\n",
       "    <tr>\n",
       "      <th>4</th>\n",
       "      <td>chlorides</td>\n",
       "      <td>7.819165</td>\n",
       "    </tr>\n",
       "    <tr>\n",
       "      <th>5</th>\n",
       "      <td>free sulfur dioxide</td>\n",
       "      <td>6.622719</td>\n",
       "    </tr>\n",
       "    <tr>\n",
       "      <th>6</th>\n",
       "      <td>total sulfur dioxide</td>\n",
       "      <td>6.242094</td>\n",
       "    </tr>\n",
       "    <tr>\n",
       "      <th>7</th>\n",
       "      <td>density</td>\n",
       "      <td>1793.728468</td>\n",
       "    </tr>\n",
       "    <tr>\n",
       "      <th>8</th>\n",
       "      <td>pH</td>\n",
       "      <td>1362.166250</td>\n",
       "    </tr>\n",
       "    <tr>\n",
       "      <th>9</th>\n",
       "      <td>sulphates</td>\n",
       "      <td>30.067519</td>\n",
       "    </tr>\n",
       "    <tr>\n",
       "      <th>10</th>\n",
       "      <td>alcohol</td>\n",
       "      <td>133.429460</td>\n",
       "    </tr>\n",
       "  </tbody>\n",
       "</table>\n",
       "</div>"
      ],
      "text/plain": [
       "               Variables   VIF FACTOR\n",
       "0          fixed acidity   100.438662\n",
       "1       volatile acidity    18.048194\n",
       "2            citric acid    12.663948\n",
       "3         residual sugar     6.092013\n",
       "4              chlorides     7.819165\n",
       "5    free sulfur dioxide     6.622719\n",
       "6   total sulfur dioxide     6.242094\n",
       "7                density  1793.728468\n",
       "8                     pH  1362.166250\n",
       "9              sulphates    30.067519\n",
       "10               alcohol   133.429460"
      ]
     },
     "execution_count": 27,
     "metadata": {},
     "output_type": "execute_result"
    }
   ],
   "source": [
    "calc_vif(x)"
   ]
  },
  {
   "cell_type": "markdown",
   "id": "930e622e",
   "metadata": {},
   "source": [
    "From Vif values we can see that : -\n",
    "   1. density & pH - are having very high vif \n",
    "   2. alcohol & fixed acidity - are having second highest vif values close to each other - we can drop 'fixed acidity' as alcohol shows higher correlation with the wine quality"
   ]
  },
  {
   "cell_type": "markdown",
   "id": "8f93ce81",
   "metadata": {},
   "source": [
    "# Data Cleaning"
   ]
  },
  {
   "cell_type": "code",
   "execution_count": 28,
   "id": "4f8eb41c",
   "metadata": {
    "scrolled": true
   },
   "outputs": [
    {
     "data": {
      "text/html": [
       "<div>\n",
       "<style scoped>\n",
       "    .dataframe tbody tr th:only-of-type {\n",
       "        vertical-align: middle;\n",
       "    }\n",
       "\n",
       "    .dataframe tbody tr th {\n",
       "        vertical-align: top;\n",
       "    }\n",
       "\n",
       "    .dataframe thead th {\n",
       "        text-align: right;\n",
       "    }\n",
       "</style>\n",
       "<table border=\"1\" class=\"dataframe\">\n",
       "  <thead>\n",
       "    <tr style=\"text-align: right;\">\n",
       "      <th></th>\n",
       "      <th>fixed acidity</th>\n",
       "      <th>volatile acidity</th>\n",
       "      <th>citric acid</th>\n",
       "      <th>residual sugar</th>\n",
       "      <th>chlorides</th>\n",
       "      <th>free sulfur dioxide</th>\n",
       "      <th>total sulfur dioxide</th>\n",
       "      <th>sulphates</th>\n",
       "      <th>alcohol</th>\n",
       "      <th>quality</th>\n",
       "    </tr>\n",
       "  </thead>\n",
       "  <tbody>\n",
       "    <tr>\n",
       "      <th>0</th>\n",
       "      <td>7.400000</td>\n",
       "      <td>0.700000</td>\n",
       "      <td>0.000000</td>\n",
       "      <td>1.900000</td>\n",
       "      <td>0.076000</td>\n",
       "      <td>11.000000</td>\n",
       "      <td>34.000000</td>\n",
       "      <td>0.560000</td>\n",
       "      <td>9.400000</td>\n",
       "      <td>5</td>\n",
       "    </tr>\n",
       "    <tr>\n",
       "      <th>1</th>\n",
       "      <td>7.800000</td>\n",
       "      <td>0.880000</td>\n",
       "      <td>0.000000</td>\n",
       "      <td>2.600000</td>\n",
       "      <td>0.098000</td>\n",
       "      <td>25.000000</td>\n",
       "      <td>67.000000</td>\n",
       "      <td>0.680000</td>\n",
       "      <td>9.800000</td>\n",
       "      <td>5</td>\n",
       "    </tr>\n",
       "    <tr>\n",
       "      <th>2</th>\n",
       "      <td>7.800000</td>\n",
       "      <td>0.760000</td>\n",
       "      <td>0.040000</td>\n",
       "      <td>2.300000</td>\n",
       "      <td>0.092000</td>\n",
       "      <td>15.000000</td>\n",
       "      <td>54.000000</td>\n",
       "      <td>0.650000</td>\n",
       "      <td>9.800000</td>\n",
       "      <td>5</td>\n",
       "    </tr>\n",
       "    <tr>\n",
       "      <th>3</th>\n",
       "      <td>11.200000</td>\n",
       "      <td>0.280000</td>\n",
       "      <td>0.560000</td>\n",
       "      <td>1.900000</td>\n",
       "      <td>0.075000</td>\n",
       "      <td>17.000000</td>\n",
       "      <td>60.000000</td>\n",
       "      <td>0.580000</td>\n",
       "      <td>9.800000</td>\n",
       "      <td>6</td>\n",
       "    </tr>\n",
       "    <tr>\n",
       "      <th>4</th>\n",
       "      <td>7.400000</td>\n",
       "      <td>0.700000</td>\n",
       "      <td>0.000000</td>\n",
       "      <td>1.900000</td>\n",
       "      <td>0.076000</td>\n",
       "      <td>11.000000</td>\n",
       "      <td>34.000000</td>\n",
       "      <td>0.560000</td>\n",
       "      <td>9.400000</td>\n",
       "      <td>5</td>\n",
       "    </tr>\n",
       "    <tr>\n",
       "      <th>...</th>\n",
       "      <td>...</td>\n",
       "      <td>...</td>\n",
       "      <td>...</td>\n",
       "      <td>...</td>\n",
       "      <td>...</td>\n",
       "      <td>...</td>\n",
       "      <td>...</td>\n",
       "      <td>...</td>\n",
       "      <td>...</td>\n",
       "      <td>...</td>\n",
       "    </tr>\n",
       "    <tr>\n",
       "      <th>4081</th>\n",
       "      <td>6.208034</td>\n",
       "      <td>0.717819</td>\n",
       "      <td>0.158389</td>\n",
       "      <td>1.981598</td>\n",
       "      <td>0.053724</td>\n",
       "      <td>12.793088</td>\n",
       "      <td>74.517497</td>\n",
       "      <td>0.830575</td>\n",
       "      <td>12.873564</td>\n",
       "      <td>8</td>\n",
       "    </tr>\n",
       "    <tr>\n",
       "      <th>4082</th>\n",
       "      <td>8.474604</td>\n",
       "      <td>0.448063</td>\n",
       "      <td>0.424275</td>\n",
       "      <td>2.614921</td>\n",
       "      <td>0.077532</td>\n",
       "      <td>7.233861</td>\n",
       "      <td>17.000000</td>\n",
       "      <td>0.796614</td>\n",
       "      <td>12.563703</td>\n",
       "      <td>8</td>\n",
       "    </tr>\n",
       "    <tr>\n",
       "      <th>4083</th>\n",
       "      <td>7.456413</td>\n",
       "      <td>0.389617</td>\n",
       "      <td>0.270383</td>\n",
       "      <td>1.870516</td>\n",
       "      <td>0.072731</td>\n",
       "      <td>19.397548</td>\n",
       "      <td>26.961677</td>\n",
       "      <td>0.705641</td>\n",
       "      <td>11.583342</td>\n",
       "      <td>8</td>\n",
       "    </tr>\n",
       "    <tr>\n",
       "      <th>4084</th>\n",
       "      <td>8.982786</td>\n",
       "      <td>0.413675</td>\n",
       "      <td>0.484371</td>\n",
       "      <td>1.868375</td>\n",
       "      <td>0.071488</td>\n",
       "      <td>7.097678</td>\n",
       "      <td>16.097678</td>\n",
       "      <td>0.692930</td>\n",
       "      <td>12.558607</td>\n",
       "      <td>8</td>\n",
       "    </tr>\n",
       "    <tr>\n",
       "      <th>4085</th>\n",
       "      <td>10.121990</td>\n",
       "      <td>0.331867</td>\n",
       "      <td>0.457417</td>\n",
       "      <td>5.717627</td>\n",
       "      <td>0.072703</td>\n",
       "      <td>5.296684</td>\n",
       "      <td>13.445026</td>\n",
       "      <td>0.800716</td>\n",
       "      <td>12.585166</td>\n",
       "      <td>8</td>\n",
       "    </tr>\n",
       "  </tbody>\n",
       "</table>\n",
       "<p>4086 rows × 10 columns</p>\n",
       "</div>"
      ],
      "text/plain": [
       "      fixed acidity  volatile acidity  citric acid  residual sugar  chlorides  \\\n",
       "0          7.400000          0.700000     0.000000        1.900000   0.076000   \n",
       "1          7.800000          0.880000     0.000000        2.600000   0.098000   \n",
       "2          7.800000          0.760000     0.040000        2.300000   0.092000   \n",
       "3         11.200000          0.280000     0.560000        1.900000   0.075000   \n",
       "4          7.400000          0.700000     0.000000        1.900000   0.076000   \n",
       "...             ...               ...          ...             ...        ...   \n",
       "4081       6.208034          0.717819     0.158389        1.981598   0.053724   \n",
       "4082       8.474604          0.448063     0.424275        2.614921   0.077532   \n",
       "4083       7.456413          0.389617     0.270383        1.870516   0.072731   \n",
       "4084       8.982786          0.413675     0.484371        1.868375   0.071488   \n",
       "4085      10.121990          0.331867     0.457417        5.717627   0.072703   \n",
       "\n",
       "      free sulfur dioxide  total sulfur dioxide  sulphates    alcohol  quality  \n",
       "0               11.000000             34.000000   0.560000   9.400000        5  \n",
       "1               25.000000             67.000000   0.680000   9.800000        5  \n",
       "2               15.000000             54.000000   0.650000   9.800000        5  \n",
       "3               17.000000             60.000000   0.580000   9.800000        6  \n",
       "4               11.000000             34.000000   0.560000   9.400000        5  \n",
       "...                   ...                   ...        ...        ...      ...  \n",
       "4081            12.793088             74.517497   0.830575  12.873564        8  \n",
       "4082             7.233861             17.000000   0.796614  12.563703        8  \n",
       "4083            19.397548             26.961677   0.705641  11.583342        8  \n",
       "4084             7.097678             16.097678   0.692930  12.558607        8  \n",
       "4085             5.296684             13.445026   0.800716  12.585166        8  \n",
       "\n",
       "[4086 rows x 10 columns]"
      ]
     },
     "execution_count": 28,
     "metadata": {},
     "output_type": "execute_result"
    }
   ],
   "source": [
    "dx.drop({'density','pH'},axis=1,inplace=True)  #Both density & pH are having very high VIF & also have -ve correlation with target\n",
    "dx"
   ]
  },
  {
   "cell_type": "code",
   "execution_count": 29,
   "id": "ef101b93",
   "metadata": {},
   "outputs": [
    {
     "data": {
      "text/html": [
       "<div>\n",
       "<style scoped>\n",
       "    .dataframe tbody tr th:only-of-type {\n",
       "        vertical-align: middle;\n",
       "    }\n",
       "\n",
       "    .dataframe tbody tr th {\n",
       "        vertical-align: top;\n",
       "    }\n",
       "\n",
       "    .dataframe thead th {\n",
       "        text-align: right;\n",
       "    }\n",
       "</style>\n",
       "<table border=\"1\" class=\"dataframe\">\n",
       "  <thead>\n",
       "    <tr style=\"text-align: right;\">\n",
       "      <th></th>\n",
       "      <th>Variables</th>\n",
       "      <th>VIF FACTOR</th>\n",
       "    </tr>\n",
       "  </thead>\n",
       "  <tbody>\n",
       "    <tr>\n",
       "      <th>0</th>\n",
       "      <td>fixed acidity</td>\n",
       "      <td>45.107447</td>\n",
       "    </tr>\n",
       "    <tr>\n",
       "      <th>1</th>\n",
       "      <td>volatile acidity</td>\n",
       "      <td>20.039097</td>\n",
       "    </tr>\n",
       "    <tr>\n",
       "      <th>2</th>\n",
       "      <td>citric acid</td>\n",
       "      <td>10.877866</td>\n",
       "    </tr>\n",
       "    <tr>\n",
       "      <th>3</th>\n",
       "      <td>residual sugar</td>\n",
       "      <td>6.121519</td>\n",
       "    </tr>\n",
       "    <tr>\n",
       "      <th>4</th>\n",
       "      <td>chlorides</td>\n",
       "      <td>7.443052</td>\n",
       "    </tr>\n",
       "    <tr>\n",
       "      <th>5</th>\n",
       "      <td>free sulfur dioxide</td>\n",
       "      <td>6.459079</td>\n",
       "    </tr>\n",
       "    <tr>\n",
       "      <th>6</th>\n",
       "      <td>total sulfur dioxide</td>\n",
       "      <td>5.683467</td>\n",
       "    </tr>\n",
       "    <tr>\n",
       "      <th>7</th>\n",
       "      <td>sulphates</td>\n",
       "      <td>31.195500</td>\n",
       "    </tr>\n",
       "    <tr>\n",
       "      <th>8</th>\n",
       "      <td>alcohol</td>\n",
       "      <td>95.787357</td>\n",
       "    </tr>\n",
       "    <tr>\n",
       "      <th>9</th>\n",
       "      <td>quality</td>\n",
       "      <td>39.307466</td>\n",
       "    </tr>\n",
       "  </tbody>\n",
       "</table>\n",
       "</div>"
      ],
      "text/plain": [
       "              Variables  VIF FACTOR\n",
       "0         fixed acidity   45.107447\n",
       "1      volatile acidity   20.039097\n",
       "2           citric acid   10.877866\n",
       "3        residual sugar    6.121519\n",
       "4             chlorides    7.443052\n",
       "5   free sulfur dioxide    6.459079\n",
       "6  total sulfur dioxide    5.683467\n",
       "7             sulphates   31.195500\n",
       "8               alcohol   95.787357\n",
       "9               quality   39.307466"
      ]
     },
     "execution_count": 29,
     "metadata": {},
     "output_type": "execute_result"
    }
   ],
   "source": [
    "calc_vif(dx)"
   ]
  },
  {
   "cell_type": "code",
   "execution_count": 30,
   "id": "417ec7a6",
   "metadata": {},
   "outputs": [
    {
     "data": {
      "text/html": [
       "<div>\n",
       "<style scoped>\n",
       "    .dataframe tbody tr th:only-of-type {\n",
       "        vertical-align: middle;\n",
       "    }\n",
       "\n",
       "    .dataframe tbody tr th {\n",
       "        vertical-align: top;\n",
       "    }\n",
       "\n",
       "    .dataframe thead th {\n",
       "        text-align: right;\n",
       "    }\n",
       "</style>\n",
       "<table border=\"1\" class=\"dataframe\">\n",
       "  <thead>\n",
       "    <tr style=\"text-align: right;\">\n",
       "      <th></th>\n",
       "      <th>volatile acidity</th>\n",
       "      <th>citric acid</th>\n",
       "      <th>residual sugar</th>\n",
       "      <th>chlorides</th>\n",
       "      <th>free sulfur dioxide</th>\n",
       "      <th>total sulfur dioxide</th>\n",
       "      <th>sulphates</th>\n",
       "      <th>alcohol</th>\n",
       "      <th>quality</th>\n",
       "    </tr>\n",
       "  </thead>\n",
       "  <tbody>\n",
       "    <tr>\n",
       "      <th>0</th>\n",
       "      <td>0.700000</td>\n",
       "      <td>0.000000</td>\n",
       "      <td>1.900000</td>\n",
       "      <td>0.076000</td>\n",
       "      <td>11.000000</td>\n",
       "      <td>34.000000</td>\n",
       "      <td>0.560000</td>\n",
       "      <td>9.400000</td>\n",
       "      <td>5</td>\n",
       "    </tr>\n",
       "    <tr>\n",
       "      <th>1</th>\n",
       "      <td>0.880000</td>\n",
       "      <td>0.000000</td>\n",
       "      <td>2.600000</td>\n",
       "      <td>0.098000</td>\n",
       "      <td>25.000000</td>\n",
       "      <td>67.000000</td>\n",
       "      <td>0.680000</td>\n",
       "      <td>9.800000</td>\n",
       "      <td>5</td>\n",
       "    </tr>\n",
       "    <tr>\n",
       "      <th>2</th>\n",
       "      <td>0.760000</td>\n",
       "      <td>0.040000</td>\n",
       "      <td>2.300000</td>\n",
       "      <td>0.092000</td>\n",
       "      <td>15.000000</td>\n",
       "      <td>54.000000</td>\n",
       "      <td>0.650000</td>\n",
       "      <td>9.800000</td>\n",
       "      <td>5</td>\n",
       "    </tr>\n",
       "    <tr>\n",
       "      <th>3</th>\n",
       "      <td>0.280000</td>\n",
       "      <td>0.560000</td>\n",
       "      <td>1.900000</td>\n",
       "      <td>0.075000</td>\n",
       "      <td>17.000000</td>\n",
       "      <td>60.000000</td>\n",
       "      <td>0.580000</td>\n",
       "      <td>9.800000</td>\n",
       "      <td>6</td>\n",
       "    </tr>\n",
       "    <tr>\n",
       "      <th>4</th>\n",
       "      <td>0.700000</td>\n",
       "      <td>0.000000</td>\n",
       "      <td>1.900000</td>\n",
       "      <td>0.076000</td>\n",
       "      <td>11.000000</td>\n",
       "      <td>34.000000</td>\n",
       "      <td>0.560000</td>\n",
       "      <td>9.400000</td>\n",
       "      <td>5</td>\n",
       "    </tr>\n",
       "    <tr>\n",
       "      <th>...</th>\n",
       "      <td>...</td>\n",
       "      <td>...</td>\n",
       "      <td>...</td>\n",
       "      <td>...</td>\n",
       "      <td>...</td>\n",
       "      <td>...</td>\n",
       "      <td>...</td>\n",
       "      <td>...</td>\n",
       "      <td>...</td>\n",
       "    </tr>\n",
       "    <tr>\n",
       "      <th>4081</th>\n",
       "      <td>0.717819</td>\n",
       "      <td>0.158389</td>\n",
       "      <td>1.981598</td>\n",
       "      <td>0.053724</td>\n",
       "      <td>12.793088</td>\n",
       "      <td>74.517497</td>\n",
       "      <td>0.830575</td>\n",
       "      <td>12.873564</td>\n",
       "      <td>8</td>\n",
       "    </tr>\n",
       "    <tr>\n",
       "      <th>4082</th>\n",
       "      <td>0.448063</td>\n",
       "      <td>0.424275</td>\n",
       "      <td>2.614921</td>\n",
       "      <td>0.077532</td>\n",
       "      <td>7.233861</td>\n",
       "      <td>17.000000</td>\n",
       "      <td>0.796614</td>\n",
       "      <td>12.563703</td>\n",
       "      <td>8</td>\n",
       "    </tr>\n",
       "    <tr>\n",
       "      <th>4083</th>\n",
       "      <td>0.389617</td>\n",
       "      <td>0.270383</td>\n",
       "      <td>1.870516</td>\n",
       "      <td>0.072731</td>\n",
       "      <td>19.397548</td>\n",
       "      <td>26.961677</td>\n",
       "      <td>0.705641</td>\n",
       "      <td>11.583342</td>\n",
       "      <td>8</td>\n",
       "    </tr>\n",
       "    <tr>\n",
       "      <th>4084</th>\n",
       "      <td>0.413675</td>\n",
       "      <td>0.484371</td>\n",
       "      <td>1.868375</td>\n",
       "      <td>0.071488</td>\n",
       "      <td>7.097678</td>\n",
       "      <td>16.097678</td>\n",
       "      <td>0.692930</td>\n",
       "      <td>12.558607</td>\n",
       "      <td>8</td>\n",
       "    </tr>\n",
       "    <tr>\n",
       "      <th>4085</th>\n",
       "      <td>0.331867</td>\n",
       "      <td>0.457417</td>\n",
       "      <td>5.717627</td>\n",
       "      <td>0.072703</td>\n",
       "      <td>5.296684</td>\n",
       "      <td>13.445026</td>\n",
       "      <td>0.800716</td>\n",
       "      <td>12.585166</td>\n",
       "      <td>8</td>\n",
       "    </tr>\n",
       "  </tbody>\n",
       "</table>\n",
       "<p>4086 rows × 9 columns</p>\n",
       "</div>"
      ],
      "text/plain": [
       "      volatile acidity  citric acid  residual sugar  chlorides  \\\n",
       "0             0.700000     0.000000        1.900000   0.076000   \n",
       "1             0.880000     0.000000        2.600000   0.098000   \n",
       "2             0.760000     0.040000        2.300000   0.092000   \n",
       "3             0.280000     0.560000        1.900000   0.075000   \n",
       "4             0.700000     0.000000        1.900000   0.076000   \n",
       "...                ...          ...             ...        ...   \n",
       "4081          0.717819     0.158389        1.981598   0.053724   \n",
       "4082          0.448063     0.424275        2.614921   0.077532   \n",
       "4083          0.389617     0.270383        1.870516   0.072731   \n",
       "4084          0.413675     0.484371        1.868375   0.071488   \n",
       "4085          0.331867     0.457417        5.717627   0.072703   \n",
       "\n",
       "      free sulfur dioxide  total sulfur dioxide  sulphates    alcohol  quality  \n",
       "0               11.000000             34.000000   0.560000   9.400000        5  \n",
       "1               25.000000             67.000000   0.680000   9.800000        5  \n",
       "2               15.000000             54.000000   0.650000   9.800000        5  \n",
       "3               17.000000             60.000000   0.580000   9.800000        6  \n",
       "4               11.000000             34.000000   0.560000   9.400000        5  \n",
       "...                   ...                   ...        ...        ...      ...  \n",
       "4081            12.793088             74.517497   0.830575  12.873564        8  \n",
       "4082             7.233861             17.000000   0.796614  12.563703        8  \n",
       "4083            19.397548             26.961677   0.705641  11.583342        8  \n",
       "4084             7.097678             16.097678   0.692930  12.558607        8  \n",
       "4085             5.296684             13.445026   0.800716  12.585166        8  \n",
       "\n",
       "[4086 rows x 9 columns]"
      ]
     },
     "execution_count": 30,
     "metadata": {},
     "output_type": "execute_result"
    }
   ],
   "source": [
    "dx.drop('fixed acidity',axis=1,inplace=True)  # Dropping 'fixed acidity'\n",
    "dx"
   ]
  },
  {
   "cell_type": "code",
   "execution_count": 31,
   "id": "8d402cab",
   "metadata": {},
   "outputs": [
    {
     "data": {
      "text/html": [
       "<div>\n",
       "<style scoped>\n",
       "    .dataframe tbody tr th:only-of-type {\n",
       "        vertical-align: middle;\n",
       "    }\n",
       "\n",
       "    .dataframe tbody tr th {\n",
       "        vertical-align: top;\n",
       "    }\n",
       "\n",
       "    .dataframe thead th {\n",
       "        text-align: right;\n",
       "    }\n",
       "</style>\n",
       "<table border=\"1\" class=\"dataframe\">\n",
       "  <thead>\n",
       "    <tr style=\"text-align: right;\">\n",
       "      <th></th>\n",
       "      <th>Variables</th>\n",
       "      <th>VIF FACTOR</th>\n",
       "    </tr>\n",
       "  </thead>\n",
       "  <tbody>\n",
       "    <tr>\n",
       "      <th>0</th>\n",
       "      <td>volatile acidity</td>\n",
       "      <td>16.325139</td>\n",
       "    </tr>\n",
       "    <tr>\n",
       "      <th>1</th>\n",
       "      <td>citric acid</td>\n",
       "      <td>5.639573</td>\n",
       "    </tr>\n",
       "    <tr>\n",
       "      <th>2</th>\n",
       "      <td>residual sugar</td>\n",
       "      <td>6.095403</td>\n",
       "    </tr>\n",
       "    <tr>\n",
       "      <th>3</th>\n",
       "      <td>chlorides</td>\n",
       "      <td>7.442961</td>\n",
       "    </tr>\n",
       "    <tr>\n",
       "      <th>4</th>\n",
       "      <td>free sulfur dioxide</td>\n",
       "      <td>6.416590</td>\n",
       "    </tr>\n",
       "    <tr>\n",
       "      <th>5</th>\n",
       "      <td>total sulfur dioxide</td>\n",
       "      <td>5.614825</td>\n",
       "    </tr>\n",
       "    <tr>\n",
       "      <th>6</th>\n",
       "      <td>sulphates</td>\n",
       "      <td>30.702543</td>\n",
       "    </tr>\n",
       "    <tr>\n",
       "      <th>7</th>\n",
       "      <td>alcohol</td>\n",
       "      <td>91.576940</td>\n",
       "    </tr>\n",
       "    <tr>\n",
       "      <th>8</th>\n",
       "      <td>quality</td>\n",
       "      <td>39.296887</td>\n",
       "    </tr>\n",
       "  </tbody>\n",
       "</table>\n",
       "</div>"
      ],
      "text/plain": [
       "              Variables  VIF FACTOR\n",
       "0      volatile acidity   16.325139\n",
       "1           citric acid    5.639573\n",
       "2        residual sugar    6.095403\n",
       "3             chlorides    7.442961\n",
       "4   free sulfur dioxide    6.416590\n",
       "5  total sulfur dioxide    5.614825\n",
       "6             sulphates   30.702543\n",
       "7               alcohol   91.576940\n",
       "8               quality   39.296887"
      ]
     },
     "execution_count": 31,
     "metadata": {},
     "output_type": "execute_result"
    }
   ],
   "source": [
    "calc_vif(dx)"
   ]
  },
  {
   "cell_type": "code",
   "execution_count": 32,
   "id": "5ec2d70a",
   "metadata": {},
   "outputs": [
    {
     "data": {
      "text/html": [
       "<div>\n",
       "<style scoped>\n",
       "    .dataframe tbody tr th:only-of-type {\n",
       "        vertical-align: middle;\n",
       "    }\n",
       "\n",
       "    .dataframe tbody tr th {\n",
       "        vertical-align: top;\n",
       "    }\n",
       "\n",
       "    .dataframe thead th {\n",
       "        text-align: right;\n",
       "    }\n",
       "</style>\n",
       "<table border=\"1\" class=\"dataframe\">\n",
       "  <thead>\n",
       "    <tr style=\"text-align: right;\">\n",
       "      <th></th>\n",
       "      <th>volatile acidity</th>\n",
       "      <th>citric acid</th>\n",
       "      <th>residual sugar</th>\n",
       "      <th>chlorides</th>\n",
       "      <th>free sulfur dioxide</th>\n",
       "      <th>total sulfur dioxide</th>\n",
       "      <th>sulphates</th>\n",
       "      <th>alcohol</th>\n",
       "      <th>quality</th>\n",
       "    </tr>\n",
       "  </thead>\n",
       "  <tbody>\n",
       "    <tr>\n",
       "      <th>count</th>\n",
       "      <td>4086.000000</td>\n",
       "      <td>4086.000000</td>\n",
       "      <td>4086.000000</td>\n",
       "      <td>4086.000000</td>\n",
       "      <td>4086.000000</td>\n",
       "      <td>4086.000000</td>\n",
       "      <td>4086.000000</td>\n",
       "      <td>4086.000000</td>\n",
       "      <td>4086.000000</td>\n",
       "    </tr>\n",
       "    <tr>\n",
       "      <th>mean</th>\n",
       "      <td>0.583664</td>\n",
       "      <td>0.272445</td>\n",
       "      <td>2.599335</td>\n",
       "      <td>0.088688</td>\n",
       "      <td>13.369253</td>\n",
       "      <td>36.448262</td>\n",
       "      <td>0.657431</td>\n",
       "      <td>10.716347</td>\n",
       "      <td>5.500000</td>\n",
       "    </tr>\n",
       "    <tr>\n",
       "      <th>std</th>\n",
       "      <td>0.245978</td>\n",
       "      <td>0.199970</td>\n",
       "      <td>1.216312</td>\n",
       "      <td>0.044453</td>\n",
       "      <td>9.652976</td>\n",
       "      <td>28.613139</td>\n",
       "      <td>0.156929</td>\n",
       "      <td>1.169242</td>\n",
       "      <td>1.708034</td>\n",
       "    </tr>\n",
       "    <tr>\n",
       "      <th>min</th>\n",
       "      <td>0.120000</td>\n",
       "      <td>0.000000</td>\n",
       "      <td>0.900000</td>\n",
       "      <td>0.012000</td>\n",
       "      <td>1.000000</td>\n",
       "      <td>6.000000</td>\n",
       "      <td>0.330000</td>\n",
       "      <td>8.400000</td>\n",
       "      <td>3.000000</td>\n",
       "    </tr>\n",
       "    <tr>\n",
       "      <th>25%</th>\n",
       "      <td>0.390000</td>\n",
       "      <td>0.080000</td>\n",
       "      <td>1.945831</td>\n",
       "      <td>0.069593</td>\n",
       "      <td>5.862657</td>\n",
       "      <td>15.085895</td>\n",
       "      <td>0.550000</td>\n",
       "      <td>9.800000</td>\n",
       "      <td>4.000000</td>\n",
       "    </tr>\n",
       "    <tr>\n",
       "      <th>50%</th>\n",
       "      <td>0.540000</td>\n",
       "      <td>0.265871</td>\n",
       "      <td>2.200000</td>\n",
       "      <td>0.078685</td>\n",
       "      <td>10.501664</td>\n",
       "      <td>27.000000</td>\n",
       "      <td>0.630000</td>\n",
       "      <td>10.547866</td>\n",
       "      <td>5.500000</td>\n",
       "    </tr>\n",
       "    <tr>\n",
       "      <th>75%</th>\n",
       "      <td>0.719134</td>\n",
       "      <td>0.440000</td>\n",
       "      <td>2.742733</td>\n",
       "      <td>0.091747</td>\n",
       "      <td>18.000000</td>\n",
       "      <td>48.000000</td>\n",
       "      <td>0.740000</td>\n",
       "      <td>11.452902</td>\n",
       "      <td>7.000000</td>\n",
       "    </tr>\n",
       "    <tr>\n",
       "      <th>max</th>\n",
       "      <td>1.580000</td>\n",
       "      <td>1.000000</td>\n",
       "      <td>15.500000</td>\n",
       "      <td>0.611000</td>\n",
       "      <td>72.000000</td>\n",
       "      <td>289.000000</td>\n",
       "      <td>2.000000</td>\n",
       "      <td>14.900000</td>\n",
       "      <td>8.000000</td>\n",
       "    </tr>\n",
       "  </tbody>\n",
       "</table>\n",
       "</div>"
      ],
      "text/plain": [
       "       volatile acidity  citric acid  residual sugar    chlorides  \\\n",
       "count       4086.000000  4086.000000     4086.000000  4086.000000   \n",
       "mean           0.583664     0.272445        2.599335     0.088688   \n",
       "std            0.245978     0.199970        1.216312     0.044453   \n",
       "min            0.120000     0.000000        0.900000     0.012000   \n",
       "25%            0.390000     0.080000        1.945831     0.069593   \n",
       "50%            0.540000     0.265871        2.200000     0.078685   \n",
       "75%            0.719134     0.440000        2.742733     0.091747   \n",
       "max            1.580000     1.000000       15.500000     0.611000   \n",
       "\n",
       "       free sulfur dioxide  total sulfur dioxide    sulphates      alcohol  \\\n",
       "count          4086.000000           4086.000000  4086.000000  4086.000000   \n",
       "mean             13.369253             36.448262     0.657431    10.716347   \n",
       "std               9.652976             28.613139     0.156929     1.169242   \n",
       "min               1.000000              6.000000     0.330000     8.400000   \n",
       "25%               5.862657             15.085895     0.550000     9.800000   \n",
       "50%              10.501664             27.000000     0.630000    10.547866   \n",
       "75%              18.000000             48.000000     0.740000    11.452902   \n",
       "max              72.000000            289.000000     2.000000    14.900000   \n",
       "\n",
       "           quality  \n",
       "count  4086.000000  \n",
       "mean      5.500000  \n",
       "std       1.708034  \n",
       "min       3.000000  \n",
       "25%       4.000000  \n",
       "50%       5.500000  \n",
       "75%       7.000000  \n",
       "max       8.000000  "
      ]
     },
     "execution_count": 32,
     "metadata": {},
     "output_type": "execute_result"
    }
   ],
   "source": [
    "dx.describe()"
   ]
  },
  {
   "cell_type": "markdown",
   "id": "2f390001",
   "metadata": {},
   "source": [
    "# Exploratory Data Analysis & Visualization"
   ]
  },
  {
   "cell_type": "markdown",
   "id": "5516cdd7",
   "metadata": {},
   "source": [
    "Univariate Analysis"
   ]
  },
  {
   "cell_type": "markdown",
   "id": "47909ec4",
   "metadata": {},
   "source": [
    "BOXPLOTS"
   ]
  },
  {
   "cell_type": "code",
   "execution_count": 33,
   "id": "ae3ca007",
   "metadata": {},
   "outputs": [
    {
     "data": {
      "image/png": "[encoded data removed]",
      "text/plain": [
       "<Figure size 1152x576 with 14 Axes>"
      ]
     },
     "metadata": {
      "needs_background": "light"
     },
     "output_type": "display_data"
    }
   ],
   "source": [
    "dx.plot(kind='box',subplots=True,layout=(2,7),figsize=(16,8)) \n",
    "plt.show()"
   ]
  },
  {
   "cell_type": "markdown",
   "id": "6afa042b",
   "metadata": {},
   "source": [
    "As we can see from the boxplot that many outliers are present in the Input Columns."
   ]
  },
  {
   "cell_type": "markdown",
   "id": "5ce6fa05",
   "metadata": {},
   "source": [
    "Removing Outliers using Z-score"
   ]
  },
  {
   "cell_type": "code",
   "execution_count": 34,
   "id": "d86b55ad",
   "metadata": {},
   "outputs": [
    {
     "data": {
      "text/html": [
       "<div>\n",
       "<style scoped>\n",
       "    .dataframe tbody tr th:only-of-type {\n",
       "        vertical-align: middle;\n",
       "    }\n",
       "\n",
       "    .dataframe tbody tr th {\n",
       "        vertical-align: top;\n",
       "    }\n",
       "\n",
       "    .dataframe thead th {\n",
       "        text-align: right;\n",
       "    }\n",
       "</style>\n",
       "<table border=\"1\" class=\"dataframe\">\n",
       "  <thead>\n",
       "    <tr style=\"text-align: right;\">\n",
       "      <th></th>\n",
       "      <th>volatile acidity</th>\n",
       "      <th>citric acid</th>\n",
       "      <th>residual sugar</th>\n",
       "      <th>chlorides</th>\n",
       "      <th>free sulfur dioxide</th>\n",
       "      <th>total sulfur dioxide</th>\n",
       "      <th>sulphates</th>\n",
       "      <th>alcohol</th>\n",
       "      <th>quality</th>\n",
       "    </tr>\n",
       "  </thead>\n",
       "  <tbody>\n",
       "    <tr>\n",
       "      <th>0</th>\n",
       "      <td>0.473012</td>\n",
       "      <td>1.362593</td>\n",
       "      <td>0.575034</td>\n",
       "      <td>0.285461</td>\n",
       "      <td>0.245473</td>\n",
       "      <td>0.085575</td>\n",
       "      <td>0.620935</td>\n",
       "      <td>1.125950</td>\n",
       "      <td>0.29277</td>\n",
       "    </tr>\n",
       "    <tr>\n",
       "      <th>1</th>\n",
       "      <td>1.204874</td>\n",
       "      <td>1.362593</td>\n",
       "      <td>0.000547</td>\n",
       "      <td>0.209505</td>\n",
       "      <td>1.205035</td>\n",
       "      <td>1.067883</td>\n",
       "      <td>0.143838</td>\n",
       "      <td>0.783806</td>\n",
       "      <td>0.29277</td>\n",
       "    </tr>\n",
       "    <tr>\n",
       "      <th>2</th>\n",
       "      <td>0.716966</td>\n",
       "      <td>1.162539</td>\n",
       "      <td>0.246130</td>\n",
       "      <td>0.074515</td>\n",
       "      <td>0.168958</td>\n",
       "      <td>0.613490</td>\n",
       "      <td>0.047355</td>\n",
       "      <td>0.783806</td>\n",
       "      <td>0.29277</td>\n",
       "    </tr>\n",
       "    <tr>\n",
       "      <th>3</th>\n",
       "      <td>1.234667</td>\n",
       "      <td>1.438164</td>\n",
       "      <td>0.575034</td>\n",
       "      <td>0.307960</td>\n",
       "      <td>0.376173</td>\n",
       "      <td>0.823210</td>\n",
       "      <td>0.493473</td>\n",
       "      <td>0.783806</td>\n",
       "      <td>0.29277</td>\n",
       "    </tr>\n",
       "    <tr>\n",
       "      <th>4</th>\n",
       "      <td>0.473012</td>\n",
       "      <td>1.362593</td>\n",
       "      <td>0.575034</td>\n",
       "      <td>0.285461</td>\n",
       "      <td>0.245473</td>\n",
       "      <td>0.085575</td>\n",
       "      <td>0.620935</td>\n",
       "      <td>1.125950</td>\n",
       "      <td>0.29277</td>\n",
       "    </tr>\n",
       "    <tr>\n",
       "      <th>...</th>\n",
       "      <td>...</td>\n",
       "      <td>...</td>\n",
       "      <td>...</td>\n",
       "      <td>...</td>\n",
       "      <td>...</td>\n",
       "      <td>...</td>\n",
       "      <td>...</td>\n",
       "      <td>...</td>\n",
       "      <td>...</td>\n",
       "    </tr>\n",
       "    <tr>\n",
       "      <th>4081</th>\n",
       "      <td>0.545460</td>\n",
       "      <td>0.570435</td>\n",
       "      <td>0.507939</td>\n",
       "      <td>0.786638</td>\n",
       "      <td>0.059695</td>\n",
       "      <td>1.330644</td>\n",
       "      <td>1.103465</td>\n",
       "      <td>1.845195</td>\n",
       "      <td>1.46385</td>\n",
       "    </tr>\n",
       "    <tr>\n",
       "      <th>4082</th>\n",
       "      <td>0.551338</td>\n",
       "      <td>0.759357</td>\n",
       "      <td>0.012816</td>\n",
       "      <td>0.250987</td>\n",
       "      <td>0.635674</td>\n",
       "      <td>0.679780</td>\n",
       "      <td>0.887031</td>\n",
       "      <td>1.580153</td>\n",
       "      <td>1.46385</td>\n",
       "    </tr>\n",
       "    <tr>\n",
       "      <th>4083</th>\n",
       "      <td>0.788976</td>\n",
       "      <td>0.010312</td>\n",
       "      <td>0.599277</td>\n",
       "      <td>0.359015</td>\n",
       "      <td>0.624578</td>\n",
       "      <td>0.331587</td>\n",
       "      <td>0.307253</td>\n",
       "      <td>0.741592</td>\n",
       "      <td>1.46385</td>\n",
       "    </tr>\n",
       "    <tr>\n",
       "      <th>4084</th>\n",
       "      <td>0.691158</td>\n",
       "      <td>1.059919</td>\n",
       "      <td>0.601038</td>\n",
       "      <td>0.386966</td>\n",
       "      <td>0.649783</td>\n",
       "      <td>0.711319</td>\n",
       "      <td>0.226244</td>\n",
       "      <td>1.575794</td>\n",
       "      <td>1.46385</td>\n",
       "    </tr>\n",
       "    <tr>\n",
       "      <th>4085</th>\n",
       "      <td>1.023779</td>\n",
       "      <td>0.925111</td>\n",
       "      <td>2.564042</td>\n",
       "      <td>0.359632</td>\n",
       "      <td>0.836380</td>\n",
       "      <td>0.804038</td>\n",
       "      <td>0.913171</td>\n",
       "      <td>1.598512</td>\n",
       "      <td>1.46385</td>\n",
       "    </tr>\n",
       "  </tbody>\n",
       "</table>\n",
       "<p>4086 rows × 9 columns</p>\n",
       "</div>"
      ],
      "text/plain": [
       "      volatile acidity  citric acid  residual sugar  chlorides  \\\n",
       "0             0.473012     1.362593        0.575034   0.285461   \n",
       "1             1.204874     1.362593        0.000547   0.209505   \n",
       "2             0.716966     1.162539        0.246130   0.074515   \n",
       "3             1.234667     1.438164        0.575034   0.307960   \n",
       "4             0.473012     1.362593        0.575034   0.285461   \n",
       "...                ...          ...             ...        ...   \n",
       "4081          0.545460     0.570435        0.507939   0.786638   \n",
       "4082          0.551338     0.759357        0.012816   0.250987   \n",
       "4083          0.788976     0.010312        0.599277   0.359015   \n",
       "4084          0.691158     1.059919        0.601038   0.386966   \n",
       "4085          1.023779     0.925111        2.564042   0.359632   \n",
       "\n",
       "      free sulfur dioxide  total sulfur dioxide  sulphates   alcohol  quality  \n",
       "0                0.245473              0.085575   0.620935  1.125950  0.29277  \n",
       "1                1.205035              1.067883   0.143838  0.783806  0.29277  \n",
       "2                0.168958              0.613490   0.047355  0.783806  0.29277  \n",
       "3                0.376173              0.823210   0.493473  0.783806  0.29277  \n",
       "4                0.245473              0.085575   0.620935  1.125950  0.29277  \n",
       "...                   ...                   ...        ...       ...      ...  \n",
       "4081             0.059695              1.330644   1.103465  1.845195  1.46385  \n",
       "4082             0.635674              0.679780   0.887031  1.580153  1.46385  \n",
       "4083             0.624578              0.331587   0.307253  0.741592  1.46385  \n",
       "4084             0.649783              0.711319   0.226244  1.575794  1.46385  \n",
       "4085             0.836380              0.804038   0.913171  1.598512  1.46385  \n",
       "\n",
       "[4086 rows x 9 columns]"
      ]
     },
     "execution_count": 34,
     "metadata": {},
     "output_type": "execute_result"
    }
   ],
   "source": [
    "from scipy.stats import zscore\n",
    "z=np.abs(zscore(dx))\n",
    "z"
   ]
  },
  {
   "cell_type": "code",
   "execution_count": 35,
   "id": "df759dc0",
   "metadata": {},
   "outputs": [
    {
     "data": {
      "text/html": [
       "<div>\n",
       "<style scoped>\n",
       "    .dataframe tbody tr th:only-of-type {\n",
       "        vertical-align: middle;\n",
       "    }\n",
       "\n",
       "    .dataframe tbody tr th {\n",
       "        vertical-align: top;\n",
       "    }\n",
       "\n",
       "    .dataframe thead th {\n",
       "        text-align: right;\n",
       "    }\n",
       "</style>\n",
       "<table border=\"1\" class=\"dataframe\">\n",
       "  <thead>\n",
       "    <tr style=\"text-align: right;\">\n",
       "      <th></th>\n",
       "      <th>volatile acidity</th>\n",
       "      <th>citric acid</th>\n",
       "      <th>residual sugar</th>\n",
       "      <th>chlorides</th>\n",
       "      <th>free sulfur dioxide</th>\n",
       "      <th>total sulfur dioxide</th>\n",
       "      <th>sulphates</th>\n",
       "      <th>alcohol</th>\n",
       "      <th>quality</th>\n",
       "    </tr>\n",
       "  </thead>\n",
       "  <tbody>\n",
       "    <tr>\n",
       "      <th>0</th>\n",
       "      <td>0.700000</td>\n",
       "      <td>0.000000</td>\n",
       "      <td>1.900000</td>\n",
       "      <td>0.076000</td>\n",
       "      <td>11.000000</td>\n",
       "      <td>34.000000</td>\n",
       "      <td>0.560000</td>\n",
       "      <td>9.400000</td>\n",
       "      <td>5</td>\n",
       "    </tr>\n",
       "    <tr>\n",
       "      <th>1</th>\n",
       "      <td>0.880000</td>\n",
       "      <td>0.000000</td>\n",
       "      <td>2.600000</td>\n",
       "      <td>0.098000</td>\n",
       "      <td>25.000000</td>\n",
       "      <td>67.000000</td>\n",
       "      <td>0.680000</td>\n",
       "      <td>9.800000</td>\n",
       "      <td>5</td>\n",
       "    </tr>\n",
       "    <tr>\n",
       "      <th>2</th>\n",
       "      <td>0.760000</td>\n",
       "      <td>0.040000</td>\n",
       "      <td>2.300000</td>\n",
       "      <td>0.092000</td>\n",
       "      <td>15.000000</td>\n",
       "      <td>54.000000</td>\n",
       "      <td>0.650000</td>\n",
       "      <td>9.800000</td>\n",
       "      <td>5</td>\n",
       "    </tr>\n",
       "    <tr>\n",
       "      <th>3</th>\n",
       "      <td>0.280000</td>\n",
       "      <td>0.560000</td>\n",
       "      <td>1.900000</td>\n",
       "      <td>0.075000</td>\n",
       "      <td>17.000000</td>\n",
       "      <td>60.000000</td>\n",
       "      <td>0.580000</td>\n",
       "      <td>9.800000</td>\n",
       "      <td>6</td>\n",
       "    </tr>\n",
       "    <tr>\n",
       "      <th>4</th>\n",
       "      <td>0.700000</td>\n",
       "      <td>0.000000</td>\n",
       "      <td>1.900000</td>\n",
       "      <td>0.076000</td>\n",
       "      <td>11.000000</td>\n",
       "      <td>34.000000</td>\n",
       "      <td>0.560000</td>\n",
       "      <td>9.400000</td>\n",
       "      <td>5</td>\n",
       "    </tr>\n",
       "    <tr>\n",
       "      <th>...</th>\n",
       "      <td>...</td>\n",
       "      <td>...</td>\n",
       "      <td>...</td>\n",
       "      <td>...</td>\n",
       "      <td>...</td>\n",
       "      <td>...</td>\n",
       "      <td>...</td>\n",
       "      <td>...</td>\n",
       "      <td>...</td>\n",
       "    </tr>\n",
       "    <tr>\n",
       "      <th>4081</th>\n",
       "      <td>0.717819</td>\n",
       "      <td>0.158389</td>\n",
       "      <td>1.981598</td>\n",
       "      <td>0.053724</td>\n",
       "      <td>12.793088</td>\n",
       "      <td>74.517497</td>\n",
       "      <td>0.830575</td>\n",
       "      <td>12.873564</td>\n",
       "      <td>8</td>\n",
       "    </tr>\n",
       "    <tr>\n",
       "      <th>4082</th>\n",
       "      <td>0.448063</td>\n",
       "      <td>0.424275</td>\n",
       "      <td>2.614921</td>\n",
       "      <td>0.077532</td>\n",
       "      <td>7.233861</td>\n",
       "      <td>17.000000</td>\n",
       "      <td>0.796614</td>\n",
       "      <td>12.563703</td>\n",
       "      <td>8</td>\n",
       "    </tr>\n",
       "    <tr>\n",
       "      <th>4083</th>\n",
       "      <td>0.389617</td>\n",
       "      <td>0.270383</td>\n",
       "      <td>1.870516</td>\n",
       "      <td>0.072731</td>\n",
       "      <td>19.397548</td>\n",
       "      <td>26.961677</td>\n",
       "      <td>0.705641</td>\n",
       "      <td>11.583342</td>\n",
       "      <td>8</td>\n",
       "    </tr>\n",
       "    <tr>\n",
       "      <th>4084</th>\n",
       "      <td>0.413675</td>\n",
       "      <td>0.484371</td>\n",
       "      <td>1.868375</td>\n",
       "      <td>0.071488</td>\n",
       "      <td>7.097678</td>\n",
       "      <td>16.097678</td>\n",
       "      <td>0.692930</td>\n",
       "      <td>12.558607</td>\n",
       "      <td>8</td>\n",
       "    </tr>\n",
       "    <tr>\n",
       "      <th>4085</th>\n",
       "      <td>0.331867</td>\n",
       "      <td>0.457417</td>\n",
       "      <td>5.717627</td>\n",
       "      <td>0.072703</td>\n",
       "      <td>5.296684</td>\n",
       "      <td>13.445026</td>\n",
       "      <td>0.800716</td>\n",
       "      <td>12.585166</td>\n",
       "      <td>8</td>\n",
       "    </tr>\n",
       "  </tbody>\n",
       "</table>\n",
       "<p>3801 rows × 9 columns</p>\n",
       "</div>"
      ],
      "text/plain": [
       "      volatile acidity  citric acid  residual sugar  chlorides  \\\n",
       "0             0.700000     0.000000        1.900000   0.076000   \n",
       "1             0.880000     0.000000        2.600000   0.098000   \n",
       "2             0.760000     0.040000        2.300000   0.092000   \n",
       "3             0.280000     0.560000        1.900000   0.075000   \n",
       "4             0.700000     0.000000        1.900000   0.076000   \n",
       "...                ...          ...             ...        ...   \n",
       "4081          0.717819     0.158389        1.981598   0.053724   \n",
       "4082          0.448063     0.424275        2.614921   0.077532   \n",
       "4083          0.389617     0.270383        1.870516   0.072731   \n",
       "4084          0.413675     0.484371        1.868375   0.071488   \n",
       "4085          0.331867     0.457417        5.717627   0.072703   \n",
       "\n",
       "      free sulfur dioxide  total sulfur dioxide  sulphates    alcohol  quality  \n",
       "0               11.000000             34.000000   0.560000   9.400000        5  \n",
       "1               25.000000             67.000000   0.680000   9.800000        5  \n",
       "2               15.000000             54.000000   0.650000   9.800000        5  \n",
       "3               17.000000             60.000000   0.580000   9.800000        6  \n",
       "4               11.000000             34.000000   0.560000   9.400000        5  \n",
       "...                   ...                   ...        ...        ...      ...  \n",
       "4081            12.793088             74.517497   0.830575  12.873564        8  \n",
       "4082             7.233861             17.000000   0.796614  12.563703        8  \n",
       "4083            19.397548             26.961677   0.705641  11.583342        8  \n",
       "4084             7.097678             16.097678   0.692930  12.558607        8  \n",
       "4085             5.296684             13.445026   0.800716  12.585166        8  \n",
       "\n",
       "[3801 rows x 9 columns]"
      ]
     },
     "execution_count": 35,
     "metadata": {},
     "output_type": "execute_result"
    }
   ],
   "source": [
    "# Now to take out the ouliers lets define a threshold i.e 3 here\n",
    "# All values with Z-score >3 will be considered as ouliers\n",
    "# Making a new file for values with z-score<3\n",
    "\n",
    "threshold=3\n",
    "df_new=dx[(z<3).all(axis=1)]\n",
    "df_new"
   ]
  },
  {
   "cell_type": "code",
   "execution_count": 36,
   "id": "5b39dea4",
   "metadata": {},
   "outputs": [
    {
     "data": {
      "text/plain": [
       "(4086, 9)"
      ]
     },
     "execution_count": 36,
     "metadata": {},
     "output_type": "execute_result"
    }
   ],
   "source": [
    "dx.shape"
   ]
  },
  {
   "cell_type": "code",
   "execution_count": 37,
   "id": "054d7422",
   "metadata": {},
   "outputs": [
    {
     "data": {
      "text/plain": [
       "(3801, 9)"
      ]
     },
     "execution_count": 37,
     "metadata": {},
     "output_type": "execute_result"
    }
   ],
   "source": [
    "df_new.shape"
   ]
  },
  {
   "cell_type": "code",
   "execution_count": 38,
   "id": "a9ec89e0",
   "metadata": {},
   "outputs": [
    {
     "data": {
      "text/plain": [
       "6.6324033284385715"
      ]
     },
     "execution_count": 38,
     "metadata": {},
     "output_type": "execute_result"
    }
   ],
   "source": [
    "Data_Loss = ((4086-3815)/4086)*100\n",
    "Data_Loss"
   ]
  },
  {
   "cell_type": "code",
   "execution_count": 39,
   "id": "70aaf9e2",
   "metadata": {},
   "outputs": [
    {
     "data": {
      "text/plain": [
       "volatile acidity        1.053415\n",
       "citric acid             0.237186\n",
       "residual sugar          3.535554\n",
       "chlorides               4.967305\n",
       "free sulfur dioxide     1.359240\n",
       "total sulfur dioxide    2.077513\n",
       "sulphates               2.024015\n",
       "alcohol                 0.599655\n",
       "quality                 0.000000\n",
       "dtype: float64"
      ]
     },
     "execution_count": 39,
     "metadata": {},
     "output_type": "execute_result"
    }
   ],
   "source": [
    "dx.skew()"
   ]
  },
  {
   "cell_type": "markdown",
   "id": "79918a3a",
   "metadata": {},
   "source": [
    "DISTRIBUTION PLOTS"
   ]
  },
  {
   "cell_type": "code",
   "execution_count": 40,
   "id": "b972cfa9",
   "metadata": {},
   "outputs": [
    {
     "data": {
      "image/png": "[encoded data removed]",
      "text/plain": [
       "<Figure size 432x288 with 1 Axes>"
      ]
     },
     "metadata": {
      "needs_background": "light"
     },
     "output_type": "display_data"
    },
    {
     "data": {
      "image/png": "[encoded data removed]",
      "text/plain": [
       "<Figure size 432x288 with 1 Axes>"
      ]
     },
     "metadata": {
      "needs_background": "light"
     },
     "output_type": "display_data"
    },
    {
     "data": {
      "image/png": "[encoded data removed]",
      "text/plain": [
       "<Figure size 432x288 with 1 Axes>"
      ]
     },
     "metadata": {
      "needs_background": "light"
     },
     "output_type": "display_data"
    },
    {
     "data": {
      "image/png": "[encoded data removed]",
      "text/plain": [
       "<Figure size 432x288 with 1 Axes>"
      ]
     },
     "metadata": {
      "needs_background": "light"
     },
     "output_type": "display_data"
    },
    {
     "data": {
      "image/png": "[encoded data removed]",
      "text/plain": [
       "<Figure size 432x288 with 1 Axes>"
      ]
     },
     "metadata": {
      "needs_background": "light"
     },
     "output_type": "display_data"
    },
    {
     "data": {
      "image/png": "[encoded data removed]",
      "text/plain": [
       "<Figure size 432x288 with 1 Axes>"
      ]
     },
     "metadata": {
      "needs_background": "light"
     },
     "output_type": "display_data"
    },
    {
     "data": {
      "image/png": "[encoded data removed]",
      "text/plain": [
       "<Figure size 432x288 with 1 Axes>"
      ]
     },
     "metadata": {
      "needs_background": "light"
     },
     "output_type": "display_data"
    },
    {
     "data": {
      "image/png": "[encoded data removed]",
      "text/plain": [
       "<Figure size 432x288 with 1 Axes>"
      ]
     },
     "metadata": {
      "needs_background": "light"
     },
     "output_type": "display_data"
    },
    {
     "data": {
      "image/png": "[encoded data removed]",
      "text/plain": [
       "<Figure size 432x288 with 1 Axes>"
      ]
     },
     "metadata": {
      "needs_background": "light"
     },
     "output_type": "display_data"
    }
   ],
   "source": [
    "for i in df_new.columns:\n",
    "    plt.figure()\n",
    "    sns.distplot(df_new[i])\n",
    "    plt.show()"
   ]
  },
  {
   "cell_type": "markdown",
   "id": "896763a2",
   "metadata": {},
   "source": [
    "From above Distribution Plots we can see that skewnees is present in many columns."
   ]
  },
  {
   "cell_type": "markdown",
   "id": "e3db49dd",
   "metadata": {},
   "source": [
    "Skewness"
   ]
  },
  {
   "cell_type": "code",
   "execution_count": 41,
   "id": "24fb9564",
   "metadata": {},
   "outputs": [
    {
     "data": {
      "text/plain": [
       "volatile acidity        0.742256\n",
       "citric acid             0.188849\n",
       "residual sugar          1.741738\n",
       "chlorides               2.182071\n",
       "free sulfur dioxide     1.106092\n",
       "total sulfur dioxide    1.256674\n",
       "sulphates               0.599872\n",
       "alcohol                 0.564390\n",
       "quality                -0.036590\n",
       "dtype: float64"
      ]
     },
     "execution_count": 41,
     "metadata": {},
     "output_type": "execute_result"
    }
   ],
   "source": [
    "df_new.skew()               # Checking Skewness"
   ]
  },
  {
   "cell_type": "code",
   "execution_count": 42,
   "id": "0190e998",
   "metadata": {},
   "outputs": [],
   "source": [
    "# Taking Skewness threshold as +/- 0.20\n",
    "# We can see that all input columns other are skewed\n",
    "# Also citric acid column is binodal\n",
    "# So, Transformation techniques will be used for removing skewnees from the data."
   ]
  },
  {
   "cell_type": "markdown",
   "id": "3deda335",
   "metadata": {},
   "source": [
    "Bivarate Analysis"
   ]
  },
  {
   "cell_type": "markdown",
   "id": "c2810262",
   "metadata": {},
   "source": [
    "SCATTERPLOTS"
   ]
  },
  {
   "cell_type": "code",
   "execution_count": 43,
   "id": "97ec1600",
   "metadata": {},
   "outputs": [
    {
     "data": {
      "image/png": "[encoded data removed]",
      "text/plain": [
       "<Figure size 432x288 with 1 Axes>"
      ]
     },
     "metadata": {
      "needs_background": "light"
     },
     "output_type": "display_data"
    },
    {
     "data": {
      "image/png": "[encoded data removed]",
      "text/plain": [
       "<Figure size 432x288 with 1 Axes>"
      ]
     },
     "metadata": {
      "needs_background": "light"
     },
     "output_type": "display_data"
    },
    {
     "data": {
      "image/png": "[encoded data removed]",
      "text/plain": [
       "<Figure size 432x288 with 1 Axes>"
      ]
     },
     "metadata": {
      "needs_background": "light"
     },
     "output_type": "display_data"
    },
    {
     "data": {
      "image/png": "[encoded data removed]",
      "text/plain": [
       "<Figure size 432x288 with 1 Axes>"
      ]
     },
     "metadata": {
      "needs_background": "light"
     },
     "output_type": "display_data"
    },
    {
     "data": {
      "image/png": "[encoded data removed]",
      "text/plain": [
       "<Figure size 432x288 with 1 Axes>"
      ]
     },
     "metadata": {
      "needs_background": "light"
     },
     "output_type": "display_data"
    },
    {
     "data": {
      "image/png": "[encoded data removed]",
      "text/plain": [
       "<Figure size 432x288 with 1 Axes>"
      ]
     },
     "metadata": {
      "needs_background": "light"
     },
     "output_type": "display_data"
    },
    {
     "data": {
      "image/png": "[encoded data removed]",
      "text/plain": [
       "<Figure size 432x288 with 1 Axes>"
      ]
     },
     "metadata": {
      "needs_background": "light"
     },
     "output_type": "display_data"
    },
    {
     "data": {
      "image/png": "[encoded data removed]",
      "text/plain": [
       "<Figure size 432x288 with 1 Axes>"
      ]
     },
     "metadata": {
      "needs_background": "light"
     },
     "output_type": "display_data"
    },
    {
     "data": {
      "image/png": "[encoded data removed]",
      "text/plain": [
       "<Figure size 432x288 with 1 Axes>"
      ]
     },
     "metadata": {
      "needs_background": "light"
     },
     "output_type": "display_data"
    }
   ],
   "source": [
    "for i in df_new.columns:\n",
    "    sns.scatterplot(x='quality',y=i,data=df_new)\n",
    "    plt.show()"
   ]
  },
  {
   "cell_type": "code",
   "execution_count": 44,
   "id": "09f51587",
   "metadata": {},
   "outputs": [],
   "source": [
    "#Dividing the data into Independent columns & Target column\n",
    "\n",
    "x = df_new.iloc[:,:-1]  # Independent Columns\n",
    "\n",
    "y = pd.DataFrame(df_new.iloc[:,-1])  # Target Column"
   ]
  },
  {
   "cell_type": "markdown",
   "id": "e78e9fb1",
   "metadata": {},
   "source": [
    "Using Power Transformation for removing skewnees from the data"
   ]
  },
  {
   "cell_type": "code",
   "execution_count": 45,
   "id": "ff4e5cae",
   "metadata": {},
   "outputs": [],
   "source": [
    "from sklearn.preprocessing import PowerTransformer\n",
    "pt = PowerTransformer(method='yeo-johnson',standardize=True)"
   ]
  },
  {
   "cell_type": "code",
   "execution_count": 46,
   "id": "a24fa7c8",
   "metadata": {},
   "outputs": [],
   "source": [
    "data = pt.fit_transform(x)\n",
    "x = pd.DataFrame(data,columns=x.columns)"
   ]
  },
  {
   "cell_type": "code",
   "execution_count": 47,
   "id": "3ffd2275",
   "metadata": {},
   "outputs": [
    {
     "data": {
      "text/plain": [
       "volatile acidity        0.057098\n",
       "citric acid             0.002426\n",
       "residual sugar          0.043524\n",
       "chlorides              -0.142368\n",
       "free sulfur dioxide     0.042282\n",
       "total sulfur dioxide    0.042809\n",
       "sulphates               0.023112\n",
       "alcohol                 0.045186\n",
       "dtype: float64"
      ]
     },
     "execution_count": 47,
     "metadata": {},
     "output_type": "execute_result"
    }
   ],
   "source": [
    "x.skew()                # Now we can see that the skewness is removed."
   ]
  },
  {
   "cell_type": "markdown",
   "id": "8ee85ae7",
   "metadata": {},
   "source": [
    "# CLASSIFICATION MODEL"
   ]
  },
  {
   "cell_type": "markdown",
   "id": "822353a2",
   "metadata": {},
   "source": [
    "Since,the outcome i.e. wine 'quality' have 6 outcomes, we will use Classification Models"
   ]
  },
  {
   "cell_type": "markdown",
   "id": "d47bac1b",
   "metadata": {},
   "source": [
    "Decision Tree Classifier"
   ]
  },
  {
   "cell_type": "code",
   "execution_count": 48,
   "id": "f9e0aba7",
   "metadata": {},
   "outputs": [],
   "source": [
    "from sklearn.model_selection import train_test_split\n",
    "\n",
    "from sklearn.tree import DecisionTreeClassifier\n",
    "dtc = DecisionTreeClassifier()\n",
    "\n",
    "from sklearn.metrics import accuracy_score, confusion_matrix, classification_report"
   ]
  },
  {
   "cell_type": "markdown",
   "id": "f9e05214",
   "metadata": {},
   "source": [
    "# Splitting the DataFrame"
   ]
  },
  {
   "cell_type": "code",
   "execution_count": 59,
   "id": "574a6ec9",
   "metadata": {},
   "outputs": [
    {
     "name": "stdout",
     "output_type": "stream",
     "text": [
      "At random state 70 The model preforms very well\n",
      "Model Accuracy score is :- 82.19832735961768 \n",
      "\n",
      "At random state 75 The model preforms very well\n",
      "Model Accuracy score is :- 82.79569892473118 \n",
      "\n",
      "At random state 148 The model preforms very well\n",
      "Model Accuracy score is :- 82.19832735961768 \n",
      "\n",
      "At random state 149 The model preforms very well\n",
      "Model Accuracy score is :- 82.19832735961768 \n",
      "\n",
      "At random state 154 The model preforms very well\n",
      "Model Accuracy score is :- 82.19832735961768 \n",
      "\n",
      "At random state 179 The model preforms very well\n",
      "Model Accuracy score is :- 82.67622461170848 \n",
      "\n",
      "At random state 225 The model preforms very well\n",
      "Model Accuracy score is :- 82.43727598566308 \n",
      "\n",
      "At random state 295 The model preforms very well\n",
      "Model Accuracy score is :- 82.67622461170848 \n",
      "\n",
      "At random state 305 The model preforms very well\n",
      "Model Accuracy score is :- 82.19832735961768 \n",
      "\n",
      "At random state 327 The model preforms very well\n",
      "Model Accuracy score is :- 82.31780167264037 \n",
      "\n",
      "At random state 474 The model preforms very well\n",
      "Model Accuracy score is :- 82.07885304659499 \n",
      "\n",
      "At random state 497 The model preforms very well\n",
      "Model Accuracy score is :- 82.55675029868577 \n",
      "\n",
      "At random state 527 The model preforms very well\n",
      "Model Accuracy score is :- 82.07885304659499 \n",
      "\n",
      "At random state 598 The model preforms very well\n",
      "Model Accuracy score is :- 82.67622461170848 \n",
      "\n",
      "At random state 630 The model preforms very well\n",
      "Model Accuracy score is :- 82.31780167264037 \n",
      "\n",
      "At random state 663 The model preforms very well\n",
      "Model Accuracy score is :- 83.39307048984467 \n",
      "\n",
      "At random state 846 The model preforms very well\n",
      "Model Accuracy score is :- 82.31780167264037 \n",
      "\n",
      "At random state 858 The model preforms very well\n",
      "Model Accuracy score is :- 82.67622461170848 \n",
      "\n",
      "At random state 911 The model preforms very well\n",
      "Model Accuracy score is :- 82.79569892473118 \n",
      "\n",
      "At random state 932 The model preforms very well\n",
      "Model Accuracy score is :- 82.55675029868577 \n",
      "\n",
      "At random state 968 The model preforms very well\n",
      "Model Accuracy score is :- 82.67622461170848 \n",
      "\n"
     ]
    }
   ],
   "source": [
    "for i in range(0,1000):\n",
    "    x_train,x_test,y_train,y_test= train_test_split(x,y,random_state=i,test_size=0.22)\n",
    "    dtc.fit(x_train,y_train)\n",
    "    pred_test=dtc.predict(x_test)\n",
    "    if round(accuracy_score(y_test,pred_test)*100,1) > 82.0:\n",
    "        print(\"At random state\",i,\"The model preforms very well\")\n",
    "        print(\"Model Accuracy score is :-\",accuracy_score(y_test,pred_test)*100,'\\n')"
   ]
  },
  {
   "cell_type": "markdown",
   "id": "2df547cd",
   "metadata": {},
   "source": [
    "From Above we can see that the model is performing best at Random state 663 as the Accuracy score is heighest at 663. Therefore using random_state = 663 for training the model."
   ]
  },
  {
   "cell_type": "code",
   "execution_count": 69,
   "id": "31943e59",
   "metadata": {},
   "outputs": [],
   "source": [
    "x_train,x_test,y_train,y_test= train_test_split(x,y,random_state=663,test_size=0.22)"
   ]
  },
  {
   "cell_type": "code",
   "execution_count": 70,
   "id": "ae94b2cd",
   "metadata": {},
   "outputs": [
    {
     "data": {
      "text/plain": [
       "(2964, 8)"
      ]
     },
     "execution_count": 70,
     "metadata": {},
     "output_type": "execute_result"
    }
   ],
   "source": [
    "x_train.shape"
   ]
  },
  {
   "cell_type": "code",
   "execution_count": 71,
   "id": "bbd9c693",
   "metadata": {},
   "outputs": [
    {
     "data": {
      "text/plain": [
       "(2964, 1)"
      ]
     },
     "execution_count": 71,
     "metadata": {},
     "output_type": "execute_result"
    }
   ],
   "source": [
    "y_train.shape"
   ]
  },
  {
   "cell_type": "code",
   "execution_count": 72,
   "id": "c41d89aa",
   "metadata": {},
   "outputs": [
    {
     "data": {
      "text/plain": [
       "(837, 8)"
      ]
     },
     "execution_count": 72,
     "metadata": {},
     "output_type": "execute_result"
    }
   ],
   "source": [
    "x_test.shape"
   ]
  },
  {
   "cell_type": "code",
   "execution_count": 73,
   "id": "87f0a801",
   "metadata": {},
   "outputs": [
    {
     "data": {
      "text/plain": [
       "(837, 1)"
      ]
     },
     "execution_count": 73,
     "metadata": {},
     "output_type": "execute_result"
    }
   ],
   "source": [
    "y_test.shape"
   ]
  },
  {
   "cell_type": "code",
   "execution_count": 75,
   "id": "fa44ff34",
   "metadata": {},
   "outputs": [
    {
     "name": "stdout",
     "output_type": "stream",
     "text": [
      "Accuracy Score of KNeighborsClassifier() is: 0.7921146953405018\n",
      "[[125   1   0   0   0   0]\n",
      " [  7 136   4   2   0   0]\n",
      " [  4  32  63  23   6   0]\n",
      " [  5   9  19  71  31   9]\n",
      " [  0   1   2   9 112   8]\n",
      " [  0   0   0   0   2 156]]\n",
      "              precision    recall  f1-score   support\n",
      "\n",
      "           3       0.89      0.99      0.94       126\n",
      "           4       0.76      0.91      0.83       149\n",
      "           5       0.72      0.49      0.58       128\n",
      "           6       0.68      0.49      0.57       144\n",
      "           7       0.74      0.85      0.79       132\n",
      "           8       0.90      0.99      0.94       158\n",
      "\n",
      "    accuracy                           0.79       837\n",
      "   macro avg       0.78      0.79      0.78       837\n",
      "weighted avg       0.78      0.79      0.78       837\n",
      "\n",
      "\n",
      "\n",
      "Accuracy Score of SVC() is: 0.7574671445639187\n",
      "[[126   0   0   0   0   0]\n",
      " [  5 130  12   2   0   0]\n",
      " [  5  27  72  19   4   1]\n",
      " [  2  10  26  67  34   5]\n",
      " [  0   1   2  17  94  18]\n",
      " [  0   0   0   0  13 145]]\n",
      "              precision    recall  f1-score   support\n",
      "\n",
      "           3       0.91      1.00      0.95       126\n",
      "           4       0.77      0.87      0.82       149\n",
      "           5       0.64      0.56      0.60       128\n",
      "           6       0.64      0.47      0.54       144\n",
      "           7       0.65      0.71      0.68       132\n",
      "           8       0.86      0.92      0.89       158\n",
      "\n",
      "    accuracy                           0.76       837\n",
      "   macro avg       0.75      0.76      0.75       837\n",
      "weighted avg       0.75      0.76      0.75       837\n",
      "\n",
      "\n",
      "\n",
      "Accuracy Score of DecisionTreeClassifier() is: 0.8303464755077659\n",
      "[[125   0   1   0   0   0]\n",
      " [  1 144   0   4   0   0]\n",
      " [  3  19  80  24   1   1]\n",
      " [  4   6  26  88  17   3]\n",
      " [  0   0   3  16 106   7]\n",
      " [  0   0   0   3   3 152]]\n",
      "              precision    recall  f1-score   support\n",
      "\n",
      "           3       0.94      0.99      0.97       126\n",
      "           4       0.85      0.97      0.91       149\n",
      "           5       0.73      0.62      0.67       128\n",
      "           6       0.65      0.61      0.63       144\n",
      "           7       0.83      0.80      0.82       132\n",
      "           8       0.93      0.96      0.95       158\n",
      "\n",
      "    accuracy                           0.83       837\n",
      "   macro avg       0.82      0.83      0.82       837\n",
      "weighted avg       0.82      0.83      0.83       837\n",
      "\n",
      "\n",
      "\n"
     ]
    }
   ],
   "source": [
    "from sklearn.neighbors import KNeighborsClassifier\n",
    "from sklearn.svm import SVC\n",
    "from sklearn.tree import DecisionTreeClassifier\n",
    "from sklearn.metrics import accuracy_score, confusion_matrix, classification_report\n",
    "\n",
    "knn = KNeighborsClassifier(n_neighbors = 5)\n",
    "svc = SVC(kernel='rbf')\n",
    "dtc = DecisionTreeClassifier()\n",
    "\n",
    "model = [knn,svc,dtc]\n",
    "\n",
    "for m in model:\n",
    "    m.fit(x_train,y_train)\n",
    "    pred_test=m.predict(x_test)\n",
    "    print('Accuracy Score of',m,'is:',accuracy_score(y_test,pred_test))\n",
    "    print(confusion_matrix(y_test,pred_test))\n",
    "    print(classification_report(y_test,pred_test))\n",
    "    print('\\n')"
   ]
  },
  {
   "cell_type": "markdown",
   "id": "cfaba3a4",
   "metadata": {},
   "source": [
    "FROM above we can see that here Decision Tree Classifier Model is working best for the Model."
   ]
  },
  {
   "cell_type": "markdown",
   "id": "2cf48381",
   "metadata": {},
   "source": [
    "# Hyperparameter tuning : GridSearchCV"
   ]
  },
  {
   "cell_type": "code",
   "execution_count": 76,
   "id": "b14265c5",
   "metadata": {},
   "outputs": [],
   "source": [
    "from sklearn.model_selection import GridSearchCV\n",
    "dtc = DecisionTreeClassifier()"
   ]
  },
  {
   "cell_type": "code",
   "execution_count": 93,
   "id": "d742b25c",
   "metadata": {},
   "outputs": [
    {
     "name": "stdout",
     "output_type": "stream",
     "text": [
      "{'criterion': 'entropy'}\n",
      "0.7672052322136639\n"
     ]
    }
   ],
   "source": [
    "grid_param = {'criterion':['gini','entropy']}\n",
    "\n",
    "gd_sr = GridSearchCV(estimator=dtc,param_grid=grid_param,scoring='accuracy',cv=5)\n",
    "\n",
    "gd_sr.fit(x_train,y_train)\n",
    "\n",
    "best_parameters = gd_sr.best_params_\n",
    "print(best_parameters)\n",
    "\n",
    "best_result = gd_sr.best_score_\n",
    "print(best_result)"
   ]
  },
  {
   "cell_type": "markdown",
   "id": "a1048b28",
   "metadata": {},
   "source": [
    "For our Decision Tree Classifier Model 'gini' is working best for the data."
   ]
  },
  {
   "cell_type": "code",
   "execution_count": 94,
   "id": "b29cbd04",
   "metadata": {},
   "outputs": [
    {
     "name": "stdout",
     "output_type": "stream",
     "text": [
      "Accuracy Score of model is: 0.8327359617682198\n",
      "[[125   0   0   1   0   0]\n",
      " [  1 141   5   2   0   0]\n",
      " [  3  15  82  23   3   2]\n",
      " [  4   7  26  87  18   2]\n",
      " [  0   0   2  13 110   7]\n",
      " [  0   0   0   2   4 152]]\n",
      "              precision    recall  f1-score   support\n",
      "\n",
      "           3       0.94      0.99      0.97       126\n",
      "           4       0.87      0.95      0.90       149\n",
      "           5       0.71      0.64      0.67       128\n",
      "           6       0.68      0.60      0.64       144\n",
      "           7       0.81      0.83      0.82       132\n",
      "           8       0.93      0.96      0.95       158\n",
      "\n",
      "    accuracy                           0.83       837\n",
      "   macro avg       0.82      0.83      0.83       837\n",
      "weighted avg       0.83      0.83      0.83       837\n",
      "\n"
     ]
    }
   ],
   "source": [
    "from sklearn.tree import DecisionTreeClassifier\n",
    "dtc = DecisionTreeClassifier()\n",
    "\n",
    "dtc.fit(x_train,y_train)\n",
    "pred_test=dtc.predict(x_test)\n",
    "print('Accuracy Score of model is:',accuracy_score(y_test,pred_test))\n",
    "print(confusion_matrix(y_test,pred_test))\n",
    "print(classification_report(y_test,pred_test))"
   ]
  },
  {
   "cell_type": "markdown",
   "id": "5446ca27",
   "metadata": {},
   "source": [
    "# Cross-Validation of Model"
   ]
  },
  {
   "cell_type": "code",
   "execution_count": 95,
   "id": "17ae60aa",
   "metadata": {},
   "outputs": [
    {
     "name": "stdout",
     "output_type": "stream",
     "text": [
      "At cv:- 2\n",
      "Cross Validation score is:- 68.61348597690966\n",
      "Accuracy Score of model is :- 83.27359617682198\n",
      "\n",
      "\n",
      "At cv:- 3\n",
      "Cross Validation score is:- 71.32333596421995\n",
      "Accuracy Score of model is :- 83.27359617682198\n",
      "\n",
      "\n",
      "At cv:- 4\n",
      "Cross Validation score is:- 72.50711162764956\n",
      "Accuracy Score of model is :- 83.27359617682198\n",
      "\n",
      "\n",
      "At cv:- 5\n",
      "Cross Validation score is:- 74.00743481568574\n",
      "Accuracy Score of model is :- 83.27359617682198\n",
      "\n",
      "\n",
      "At cv:- 6\n",
      "Cross Validation score is:- 74.69226705737539\n",
      "Accuracy Score of model is :- 83.27359617682198\n",
      "\n",
      "\n",
      "At cv:- 7\n",
      "Cross Validation score is:- 74.76979742173111\n",
      "Accuracy Score of model is :- 83.27359617682198\n",
      "\n",
      "\n",
      "At cv:- 8\n",
      "Cross Validation score is:- 75.0343874391862\n",
      "Accuracy Score of model is :- 83.27359617682198\n",
      "\n",
      "\n",
      "At cv:- 9\n",
      "Cross Validation score is:- 75.90177485475122\n",
      "Accuracy Score of model is :- 83.27359617682198\n",
      "\n",
      "\n"
     ]
    }
   ],
   "source": [
    "from sklearn.model_selection import cross_val_score\n",
    "for i in range(2,10):\n",
    "    score = cross_val_score(dtc,x,y,cv=i)\n",
    "    c_score = score.mean()\n",
    "    print(\"At cv:-\",i)\n",
    "    print(\"Cross Validation score is:-\",c_score*100)\n",
    "    print(\"Accuracy Score of model is :-\",accuracy_score(y_test,pred_test)*100)\n",
    "    print(\"\\n\")"
   ]
  },
  {
   "cell_type": "markdown",
   "id": "bd92dc8f",
   "metadata": {},
   "source": [
    "Cross Validation Score is closest to Accuracy Score at cv:- 9."
   ]
  },
  {
   "cell_type": "code",
   "execution_count": 96,
   "id": "5025fda9",
   "metadata": {},
   "outputs": [
    {
     "name": "stdout",
     "output_type": "stream",
     "text": [
      "Cross Validation score is:- 75.16572738918205\n",
      "Accuracy Score of model is :- 83.27359617682198\n"
     ]
    }
   ],
   "source": [
    "score = cross_val_score(dtc,x,y,cv=9)\n",
    "c_score = score.mean()\n",
    "print(\"Cross Validation score is:-\",c_score*100)\n",
    "print(\"Accuracy Score of model is :-\",accuracy_score(y_test,pred_test)*100)"
   ]
  },
  {
   "cell_type": "markdown",
   "id": "cdd3f0bd",
   "metadata": {},
   "source": [
    "# Saving the best Model"
   ]
  },
  {
   "cell_type": "code",
   "execution_count": 97,
   "id": "5fe64585",
   "metadata": {},
   "outputs": [],
   "source": [
    "import pickle\n",
    "\n",
    "filename = 'Red_Wine_Quality.pkl'\n",
    "\n",
    "pickle.dump(dtc, open(filename,'wb'))  "
   ]
  },
  {
   "cell_type": "markdown",
   "id": "8025d2fb",
   "metadata": {},
   "source": [
    "# Conclusion"
   ]
  },
  {
   "cell_type": "code",
   "execution_count": 101,
   "id": "f441fb82",
   "metadata": {},
   "outputs": [
    {
     "name": "stdout",
     "output_type": "stream",
     "text": [
      "0.8327359617682198\n"
     ]
    }
   ],
   "source": [
    "loaded_model = pickle.load(open('Red_Wine_Quality.pkl','rb'))\n",
    "result = loaded_model.score(x_test,y_test)\n",
    "print(result)"
   ]
  },
  {
   "cell_type": "code",
   "execution_count": 103,
   "id": "312071f7",
   "metadata": {},
   "outputs": [
    {
     "data": {
      "text/html": [
       "<div>\n",
       "<style scoped>\n",
       "    .dataframe tbody tr th:only-of-type {\n",
       "        vertical-align: middle;\n",
       "    }\n",
       "\n",
       "    .dataframe tbody tr th {\n",
       "        vertical-align: top;\n",
       "    }\n",
       "\n",
       "    .dataframe thead th {\n",
       "        text-align: right;\n",
       "    }\n",
       "</style>\n",
       "<table border=\"1\" class=\"dataframe\">\n",
       "  <thead>\n",
       "    <tr style=\"text-align: right;\">\n",
       "      <th></th>\n",
       "      <th>0</th>\n",
       "      <th>1</th>\n",
       "      <th>2</th>\n",
       "      <th>3</th>\n",
       "      <th>4</th>\n",
       "      <th>5</th>\n",
       "      <th>6</th>\n",
       "      <th>7</th>\n",
       "      <th>8</th>\n",
       "      <th>9</th>\n",
       "      <th>...</th>\n",
       "      <th>827</th>\n",
       "      <th>828</th>\n",
       "      <th>829</th>\n",
       "      <th>830</th>\n",
       "      <th>831</th>\n",
       "      <th>832</th>\n",
       "      <th>833</th>\n",
       "      <th>834</th>\n",
       "      <th>835</th>\n",
       "      <th>836</th>\n",
       "    </tr>\n",
       "  </thead>\n",
       "  <tbody>\n",
       "    <tr>\n",
       "      <th>Predicted</th>\n",
       "      <td>8</td>\n",
       "      <td>3</td>\n",
       "      <td>5</td>\n",
       "      <td>7</td>\n",
       "      <td>6</td>\n",
       "      <td>8</td>\n",
       "      <td>7</td>\n",
       "      <td>3</td>\n",
       "      <td>5</td>\n",
       "      <td>4</td>\n",
       "      <td>...</td>\n",
       "      <td>5</td>\n",
       "      <td>5</td>\n",
       "      <td>8</td>\n",
       "      <td>8</td>\n",
       "      <td>3</td>\n",
       "      <td>3</td>\n",
       "      <td>3</td>\n",
       "      <td>5</td>\n",
       "      <td>6</td>\n",
       "      <td>3</td>\n",
       "    </tr>\n",
       "    <tr>\n",
       "      <th>Original</th>\n",
       "      <td>8</td>\n",
       "      <td>3</td>\n",
       "      <td>5</td>\n",
       "      <td>7</td>\n",
       "      <td>6</td>\n",
       "      <td>8</td>\n",
       "      <td>7</td>\n",
       "      <td>3</td>\n",
       "      <td>5</td>\n",
       "      <td>4</td>\n",
       "      <td>...</td>\n",
       "      <td>5</td>\n",
       "      <td>5</td>\n",
       "      <td>8</td>\n",
       "      <td>8</td>\n",
       "      <td>3</td>\n",
       "      <td>3</td>\n",
       "      <td>3</td>\n",
       "      <td>5</td>\n",
       "      <td>6</td>\n",
       "      <td>3</td>\n",
       "    </tr>\n",
       "  </tbody>\n",
       "</table>\n",
       "<p>2 rows × 837 columns</p>\n",
       "</div>"
      ],
      "text/plain": [
       "           0    1    2    3    4    5    6    7    8    9    ...  827  828  \\\n",
       "Predicted    8    3    5    7    6    8    7    3    5    4  ...    5    5   \n",
       "Original     8    3    5    7    6    8    7    3    5    4  ...    5    5   \n",
       "\n",
       "           829  830  831  832  833  834  835  836  \n",
       "Predicted    8    8    3    3    3    5    6    3  \n",
       "Original     8    8    3    3    3    5    6    3  \n",
       "\n",
       "[2 rows x 837 columns]"
      ]
     },
     "execution_count": 103,
     "metadata": {},
     "output_type": "execute_result"
    }
   ],
   "source": [
    "conclusion = pd.DataFrame([loaded_model.predict(x_test)[:],pred_test[:]],index=[\"Predicted\",\"Original\"])\n",
    "conclusion"
   ]
  }
 ],
 "metadata": {
  "kernelspec": {
   "display_name": "Python 3 (ipykernel)",
   "language": "python",
   "name": "python3"
  },
  "language_info": {
   "codemirror_mode": {
    "name": "ipython",
    "version": 3
   },
   "file_extension": ".py",
   "mimetype": "text/x-python",
   "name": "python",
   "nbconvert_exporter": "python",
   "pygments_lexer": "ipython3",
   "version": "3.9.7"
  }
 },
 "nbformat": 4,
 "nbformat_minor": 5
}
